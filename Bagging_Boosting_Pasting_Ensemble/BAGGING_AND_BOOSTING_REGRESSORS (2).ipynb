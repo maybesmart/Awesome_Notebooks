{
  "nbformat": 4,
  "nbformat_minor": 0,
  "metadata": {
    "colab": {
      "name": "BAGGING_AND_BOOSTING_REGRESSORS.ipynb",
      "provenance": [],
      "collapsed_sections": []
    },
    "kernelspec": {
      "name": "python3",
      "display_name": "Python 3"
    }
  },
  "cells": [
    {
      "cell_type": "markdown",
      "metadata": {
        "id": "6P9hDouL26Yt",
        "colab_type": "text"
      },
      "source": [
        "# EXTRA TREES"
      ]
    },
    {
      "cell_type": "markdown",
      "metadata": {
        "id": "hthrR161h4QO",
        "colab_type": "text"
      },
      "source": [
        "EXtremely randomized tress or Extra trees:\n",
        "An ensemble of descision trees in which the individual trees are trained on differnt random subsets of features in the training data\n",
        "using random split points( rather than finding best thresholds) (select threshold at random)"
      ]
    },
    {
      "cell_type": "markdown",
      "metadata": {
        "id": "7YJbX2Kgh8j4",
        "colab_type": "text"
      },
      "source": [
        "Averaging  vs Boosting\n",
        "\n",
        "A: indvi learners are independent\n",
        "\n",
        "B: indvi learnes are linked to prev learners\n",
        "\n",
        "\n",
        "A: built parallel\n",
        "\n",
        "B: build each model sequentioally (not scalable)\n",
        "\n",
        "A: not learn from mistakes\n",
        "\n",
        "B: learn from mistakes"
      ]
    },
    {
      "cell_type": "markdown",
      "metadata": {
        "id": "f--C1hrT3CwS",
        "colab_type": "text"
      },
      "source": [
        "#**BAGGING AND PASTING REGRESSION**\n"
      ]
    },
    {
      "cell_type": "code",
      "metadata": {
        "id": "5f10AArW3AXX",
        "colab_type": "code",
        "colab": {
          "base_uri": "https://localhost:8080/",
          "height": 122
        },
        "outputId": "f85d403b-82b5-4a0d-99ca-4a034205fee4"
      },
      "source": [
        "from google.colab import drive\n",
        "drive.mount('/content/drive')"
      ],
      "execution_count": 1,
      "outputs": [
        {
          "output_type": "stream",
          "text": [
            "Go to this URL in a browser: https://accounts.google.com/o/oauth2/auth?client_id=947318989803-6bn6qk8qdgf4n4g3pfee6491hc0brc4i.apps.googleusercontent.com&redirect_uri=urn%3aietf%3awg%3aoauth%3a2.0%3aoob&response_type=code&scope=email%20https%3a%2f%2fwww.googleapis.com%2fauth%2fdocs.test%20https%3a%2f%2fwww.googleapis.com%2fauth%2fdrive%20https%3a%2f%2fwww.googleapis.com%2fauth%2fdrive.photos.readonly%20https%3a%2f%2fwww.googleapis.com%2fauth%2fpeopleapi.readonly\n",
            "\n",
            "Enter your authorization code:\n",
            "··········\n",
            "Mounted at /content/drive\n"
          ],
          "name": "stdout"
        }
      ]
    },
    {
      "cell_type": "code",
      "metadata": {
        "id": "H0eKJrwR3Nlq",
        "colab_type": "code",
        "colab": {}
      },
      "source": [
        "import pandas as pd\n",
        "import numpy as np \n",
        "import matplotlib.pyplot as plt\n"
      ],
      "execution_count": 2,
      "outputs": []
    },
    {
      "cell_type": "code",
      "metadata": {
        "id": "8zJ5S3mb3bKV",
        "colab_type": "code",
        "colab": {
          "base_uri": "https://localhost:8080/",
          "height": 204
        },
        "outputId": "a5ca9ec7-5326-4802-f6a8-838b8886905a"
      },
      "source": [
        "concrete_data = pd.read_csv(r'/content/drive/My Drive/Concrete_Data_Yeh.csv')\n",
        "concrete_data.head()"
      ],
      "execution_count": 3,
      "outputs": [
        {
          "output_type": "execute_result",
          "data": {
            "text/html": [
              "<div>\n",
              "<style scoped>\n",
              "    .dataframe tbody tr th:only-of-type {\n",
              "        vertical-align: middle;\n",
              "    }\n",
              "\n",
              "    .dataframe tbody tr th {\n",
              "        vertical-align: top;\n",
              "    }\n",
              "\n",
              "    .dataframe thead th {\n",
              "        text-align: right;\n",
              "    }\n",
              "</style>\n",
              "<table border=\"1\" class=\"dataframe\">\n",
              "  <thead>\n",
              "    <tr style=\"text-align: right;\">\n",
              "      <th></th>\n",
              "      <th>cement</th>\n",
              "      <th>slag</th>\n",
              "      <th>flyash</th>\n",
              "      <th>water</th>\n",
              "      <th>superplasticizer</th>\n",
              "      <th>coarseaggregate</th>\n",
              "      <th>fineaggregate</th>\n",
              "      <th>age</th>\n",
              "      <th>csMPa</th>\n",
              "    </tr>\n",
              "  </thead>\n",
              "  <tbody>\n",
              "    <tr>\n",
              "      <th>0</th>\n",
              "      <td>540.0</td>\n",
              "      <td>0.0</td>\n",
              "      <td>0.0</td>\n",
              "      <td>162.0</td>\n",
              "      <td>2.5</td>\n",
              "      <td>1040.0</td>\n",
              "      <td>676.0</td>\n",
              "      <td>28</td>\n",
              "      <td>79.99</td>\n",
              "    </tr>\n",
              "    <tr>\n",
              "      <th>1</th>\n",
              "      <td>540.0</td>\n",
              "      <td>0.0</td>\n",
              "      <td>0.0</td>\n",
              "      <td>162.0</td>\n",
              "      <td>2.5</td>\n",
              "      <td>1055.0</td>\n",
              "      <td>676.0</td>\n",
              "      <td>28</td>\n",
              "      <td>61.89</td>\n",
              "    </tr>\n",
              "    <tr>\n",
              "      <th>2</th>\n",
              "      <td>332.5</td>\n",
              "      <td>142.5</td>\n",
              "      <td>0.0</td>\n",
              "      <td>228.0</td>\n",
              "      <td>0.0</td>\n",
              "      <td>932.0</td>\n",
              "      <td>594.0</td>\n",
              "      <td>270</td>\n",
              "      <td>40.27</td>\n",
              "    </tr>\n",
              "    <tr>\n",
              "      <th>3</th>\n",
              "      <td>332.5</td>\n",
              "      <td>142.5</td>\n",
              "      <td>0.0</td>\n",
              "      <td>228.0</td>\n",
              "      <td>0.0</td>\n",
              "      <td>932.0</td>\n",
              "      <td>594.0</td>\n",
              "      <td>365</td>\n",
              "      <td>41.05</td>\n",
              "    </tr>\n",
              "    <tr>\n",
              "      <th>4</th>\n",
              "      <td>198.6</td>\n",
              "      <td>132.4</td>\n",
              "      <td>0.0</td>\n",
              "      <td>192.0</td>\n",
              "      <td>0.0</td>\n",
              "      <td>978.4</td>\n",
              "      <td>825.5</td>\n",
              "      <td>360</td>\n",
              "      <td>44.30</td>\n",
              "    </tr>\n",
              "  </tbody>\n",
              "</table>\n",
              "</div>"
            ],
            "text/plain": [
              "   cement   slag  flyash  water  ...  coarseaggregate  fineaggregate  age  csMPa\n",
              "0   540.0    0.0     0.0  162.0  ...           1040.0          676.0   28  79.99\n",
              "1   540.0    0.0     0.0  162.0  ...           1055.0          676.0   28  61.89\n",
              "2   332.5  142.5     0.0  228.0  ...            932.0          594.0  270  40.27\n",
              "3   332.5  142.5     0.0  228.0  ...            932.0          594.0  365  41.05\n",
              "4   198.6  132.4     0.0  192.0  ...            978.4          825.5  360  44.30\n",
              "\n",
              "[5 rows x 9 columns]"
            ]
          },
          "metadata": {
            "tags": []
          },
          "execution_count": 3
        }
      ]
    },
    {
      "cell_type": "code",
      "metadata": {
        "id": "eHsY2ZVl3lWe",
        "colab_type": "code",
        "colab": {
          "base_uri": "https://localhost:8080/",
          "height": 34
        },
        "outputId": "6f099ca4-53e4-40e9-e994-8c11850eb995"
      },
      "source": [
        "concrete_data.shape"
      ],
      "execution_count": 4,
      "outputs": [
        {
          "output_type": "execute_result",
          "data": {
            "text/plain": [
              "(1030, 9)"
            ]
          },
          "metadata": {
            "tags": []
          },
          "execution_count": 4
        }
      ]
    },
    {
      "cell_type": "code",
      "metadata": {
        "id": "0CfPA4Tn3zhn",
        "colab_type": "code",
        "colab": {
          "base_uri": "https://localhost:8080/",
          "height": 297
        },
        "outputId": "c38c67b9-e6e8-4af3-a43a-d2ca531f0a45"
      },
      "source": [
        "concrete_data.describe()"
      ],
      "execution_count": 5,
      "outputs": [
        {
          "output_type": "execute_result",
          "data": {
            "text/html": [
              "<div>\n",
              "<style scoped>\n",
              "    .dataframe tbody tr th:only-of-type {\n",
              "        vertical-align: middle;\n",
              "    }\n",
              "\n",
              "    .dataframe tbody tr th {\n",
              "        vertical-align: top;\n",
              "    }\n",
              "\n",
              "    .dataframe thead th {\n",
              "        text-align: right;\n",
              "    }\n",
              "</style>\n",
              "<table border=\"1\" class=\"dataframe\">\n",
              "  <thead>\n",
              "    <tr style=\"text-align: right;\">\n",
              "      <th></th>\n",
              "      <th>cement</th>\n",
              "      <th>slag</th>\n",
              "      <th>flyash</th>\n",
              "      <th>water</th>\n",
              "      <th>superplasticizer</th>\n",
              "      <th>coarseaggregate</th>\n",
              "      <th>fineaggregate</th>\n",
              "      <th>age</th>\n",
              "      <th>csMPa</th>\n",
              "    </tr>\n",
              "  </thead>\n",
              "  <tbody>\n",
              "    <tr>\n",
              "      <th>count</th>\n",
              "      <td>1030.000000</td>\n",
              "      <td>1030.000000</td>\n",
              "      <td>1030.000000</td>\n",
              "      <td>1030.000000</td>\n",
              "      <td>1030.000000</td>\n",
              "      <td>1030.000000</td>\n",
              "      <td>1030.000000</td>\n",
              "      <td>1030.000000</td>\n",
              "      <td>1030.000000</td>\n",
              "    </tr>\n",
              "    <tr>\n",
              "      <th>mean</th>\n",
              "      <td>281.167864</td>\n",
              "      <td>73.895825</td>\n",
              "      <td>54.188350</td>\n",
              "      <td>181.567282</td>\n",
              "      <td>6.204660</td>\n",
              "      <td>972.918932</td>\n",
              "      <td>773.580485</td>\n",
              "      <td>45.662136</td>\n",
              "      <td>35.817961</td>\n",
              "    </tr>\n",
              "    <tr>\n",
              "      <th>std</th>\n",
              "      <td>104.506364</td>\n",
              "      <td>86.279342</td>\n",
              "      <td>63.997004</td>\n",
              "      <td>21.354219</td>\n",
              "      <td>5.973841</td>\n",
              "      <td>77.753954</td>\n",
              "      <td>80.175980</td>\n",
              "      <td>63.169912</td>\n",
              "      <td>16.705742</td>\n",
              "    </tr>\n",
              "    <tr>\n",
              "      <th>min</th>\n",
              "      <td>102.000000</td>\n",
              "      <td>0.000000</td>\n",
              "      <td>0.000000</td>\n",
              "      <td>121.800000</td>\n",
              "      <td>0.000000</td>\n",
              "      <td>801.000000</td>\n",
              "      <td>594.000000</td>\n",
              "      <td>1.000000</td>\n",
              "      <td>2.330000</td>\n",
              "    </tr>\n",
              "    <tr>\n",
              "      <th>25%</th>\n",
              "      <td>192.375000</td>\n",
              "      <td>0.000000</td>\n",
              "      <td>0.000000</td>\n",
              "      <td>164.900000</td>\n",
              "      <td>0.000000</td>\n",
              "      <td>932.000000</td>\n",
              "      <td>730.950000</td>\n",
              "      <td>7.000000</td>\n",
              "      <td>23.710000</td>\n",
              "    </tr>\n",
              "    <tr>\n",
              "      <th>50%</th>\n",
              "      <td>272.900000</td>\n",
              "      <td>22.000000</td>\n",
              "      <td>0.000000</td>\n",
              "      <td>185.000000</td>\n",
              "      <td>6.400000</td>\n",
              "      <td>968.000000</td>\n",
              "      <td>779.500000</td>\n",
              "      <td>28.000000</td>\n",
              "      <td>34.445000</td>\n",
              "    </tr>\n",
              "    <tr>\n",
              "      <th>75%</th>\n",
              "      <td>350.000000</td>\n",
              "      <td>142.950000</td>\n",
              "      <td>118.300000</td>\n",
              "      <td>192.000000</td>\n",
              "      <td>10.200000</td>\n",
              "      <td>1029.400000</td>\n",
              "      <td>824.000000</td>\n",
              "      <td>56.000000</td>\n",
              "      <td>46.135000</td>\n",
              "    </tr>\n",
              "    <tr>\n",
              "      <th>max</th>\n",
              "      <td>540.000000</td>\n",
              "      <td>359.400000</td>\n",
              "      <td>200.100000</td>\n",
              "      <td>247.000000</td>\n",
              "      <td>32.200000</td>\n",
              "      <td>1145.000000</td>\n",
              "      <td>992.600000</td>\n",
              "      <td>365.000000</td>\n",
              "      <td>82.600000</td>\n",
              "    </tr>\n",
              "  </tbody>\n",
              "</table>\n",
              "</div>"
            ],
            "text/plain": [
              "            cement         slag  ...          age        csMPa\n",
              "count  1030.000000  1030.000000  ...  1030.000000  1030.000000\n",
              "mean    281.167864    73.895825  ...    45.662136    35.817961\n",
              "std     104.506364    86.279342  ...    63.169912    16.705742\n",
              "min     102.000000     0.000000  ...     1.000000     2.330000\n",
              "25%     192.375000     0.000000  ...     7.000000    23.710000\n",
              "50%     272.900000    22.000000  ...    28.000000    34.445000\n",
              "75%     350.000000   142.950000  ...    56.000000    46.135000\n",
              "max     540.000000   359.400000  ...   365.000000    82.600000\n",
              "\n",
              "[8 rows x 9 columns]"
            ]
          },
          "metadata": {
            "tags": []
          },
          "execution_count": 5
        }
      ]
    },
    {
      "cell_type": "code",
      "metadata": {
        "id": "34i_IPIP31UA",
        "colab_type": "code",
        "colab": {
          "base_uri": "https://localhost:8080/",
          "height": 514
        },
        "outputId": "4b965b34-3c5e-4d08-fd53-baabfe7cdc47"
      },
      "source": [
        "fig, ax = plt.subplots(figsize = (10,8))\n",
        "\n",
        "plt.scatter(concrete_data['cement'], concrete_data['csMPa'])\n",
        "\n",
        "plt.xlabel('cement')\n",
        "plt.ylabel('csMPa')"
      ],
      "execution_count": null,
      "outputs": [
        {
          "output_type": "execute_result",
          "data": {
            "text/plain": [
              "Text(0, 0.5, 'csMPa')"
            ]
          },
          "metadata": {
            "tags": []
          },
          "execution_count": 6
        },
        {
          "output_type": "display_data",
          "data": {
            "image/png": "[encoded data removed]",
            "text/plain": [
              "<Figure size 720x576 with 1 Axes>"
            ]
          },
          "metadata": {
            "tags": [],
            "needs_background": "light"
          }
        }
      ]
    },
    {
      "cell_type": "code",
      "metadata": {
        "id": "udp1J_3p4PkH",
        "colab_type": "code",
        "colab": {
          "base_uri": "https://localhost:8080/",
          "height": 514
        },
        "outputId": "767e11a8-cd71-4d1a-df3b-a19bd6a2e27c"
      },
      "source": [
        "fig, ax = plt.subplots(figsize = (10,8))\n",
        "\n",
        "plt.scatter(concrete_data['cement'], concrete_data['csMPa'])\n",
        "\n",
        "plt.xlabel('water')\n",
        "plt.ylabel('csMPa')\n",
        "# negative relation"
      ],
      "execution_count": null,
      "outputs": [
        {
          "output_type": "execute_result",
          "data": {
            "text/plain": [
              "Text(0, 0.5, 'csMPa')"
            ]
          },
          "metadata": {
            "tags": []
          },
          "execution_count": 7
        },
        {
          "output_type": "display_data",
          "data": {
            "image/png": "[encoded data removed]",
            "text/plain": [
              "<Figure size 720x576 with 1 Axes>"
            ]
          },
          "metadata": {
            "tags": [],
            "needs_background": "light"
          }
        }
      ]
    },
    {
      "cell_type": "code",
      "metadata": {
        "id": "sEDQRJRH4Yqh",
        "colab_type": "code",
        "colab": {
          "base_uri": "https://localhost:8080/",
          "height": 568
        },
        "outputId": "96a85301-14e6-48ab-b046-9f5480d2b641"
      },
      "source": [
        "fig, ax = plt.subplots(figsize = (10,8))\n",
        "import seaborn as sns\n",
        "sns.stripplot(concrete_data['age'], concrete_data['csMPa']) # strippot is almost like scatterplot for categorical data"
      ],
      "execution_count": null,
      "outputs": [
        {
          "output_type": "stream",
          "text": [
            "/usr/local/lib/python3.6/dist-packages/statsmodels/tools/_testing.py:19: FutureWarning: pandas.util.testing is deprecated. Use the functions in the public API at pandas.testing instead.\n",
            "  import pandas.util.testing as tm\n"
          ],
          "name": "stderr"
        },
        {
          "output_type": "execute_result",
          "data": {
            "text/plain": [
              "<matplotlib.axes._subplots.AxesSubplot at 0x7fea89d2b668>"
            ]
          },
          "metadata": {
            "tags": []
          },
          "execution_count": 8
        },
        {
          "output_type": "display_data",
          "data": {
            "image/png": "[encoded data removed]",
            "text/plain": [
              "<Figure size 720x576 with 1 Axes>"
            ]
          },
          "metadata": {
            "tags": [],
            "needs_background": "light"
          }
        }
      ]
    },
    {
      "cell_type": "code",
      "metadata": {
        "id": "V8wBN-Ul4pct",
        "colab_type": "code",
        "colab": {
          "base_uri": "https://localhost:8080/",
          "height": 328
        },
        "outputId": "ceddc11a-04cc-4640-d01d-a7081f6f91d2"
      },
      "source": [
        "concrete_data_corr = concrete_data.corr()\n",
        "concrete_data_corr"
      ],
      "execution_count": null,
      "outputs": [
        {
          "output_type": "execute_result",
          "data": {
            "text/html": [
              "<div>\n",
              "<style scoped>\n",
              "    .dataframe tbody tr th:only-of-type {\n",
              "        vertical-align: middle;\n",
              "    }\n",
              "\n",
              "    .dataframe tbody tr th {\n",
              "        vertical-align: top;\n",
              "    }\n",
              "\n",
              "    .dataframe thead th {\n",
              "        text-align: right;\n",
              "    }\n",
              "</style>\n",
              "<table border=\"1\" class=\"dataframe\">\n",
              "  <thead>\n",
              "    <tr style=\"text-align: right;\">\n",
              "      <th></th>\n",
              "      <th>cement</th>\n",
              "      <th>slag</th>\n",
              "      <th>flyash</th>\n",
              "      <th>water</th>\n",
              "      <th>superplasticizer</th>\n",
              "      <th>coarseaggregate</th>\n",
              "      <th>fineaggregate</th>\n",
              "      <th>age</th>\n",
              "      <th>csMPa</th>\n",
              "    </tr>\n",
              "  </thead>\n",
              "  <tbody>\n",
              "    <tr>\n",
              "      <th>cement</th>\n",
              "      <td>1.000000</td>\n",
              "      <td>-0.275216</td>\n",
              "      <td>-0.397467</td>\n",
              "      <td>-0.081587</td>\n",
              "      <td>0.092386</td>\n",
              "      <td>-0.109349</td>\n",
              "      <td>-0.222718</td>\n",
              "      <td>0.081946</td>\n",
              "      <td>0.497832</td>\n",
              "    </tr>\n",
              "    <tr>\n",
              "      <th>slag</th>\n",
              "      <td>-0.275216</td>\n",
              "      <td>1.000000</td>\n",
              "      <td>-0.323580</td>\n",
              "      <td>0.107252</td>\n",
              "      <td>0.043270</td>\n",
              "      <td>-0.283999</td>\n",
              "      <td>-0.281603</td>\n",
              "      <td>-0.044246</td>\n",
              "      <td>0.134829</td>\n",
              "    </tr>\n",
              "    <tr>\n",
              "      <th>flyash</th>\n",
              "      <td>-0.397467</td>\n",
              "      <td>-0.323580</td>\n",
              "      <td>1.000000</td>\n",
              "      <td>-0.256984</td>\n",
              "      <td>0.377503</td>\n",
              "      <td>-0.009961</td>\n",
              "      <td>0.079108</td>\n",
              "      <td>-0.154371</td>\n",
              "      <td>-0.105755</td>\n",
              "    </tr>\n",
              "    <tr>\n",
              "      <th>water</th>\n",
              "      <td>-0.081587</td>\n",
              "      <td>0.107252</td>\n",
              "      <td>-0.256984</td>\n",
              "      <td>1.000000</td>\n",
              "      <td>-0.657533</td>\n",
              "      <td>-0.182294</td>\n",
              "      <td>-0.450661</td>\n",
              "      <td>0.277618</td>\n",
              "      <td>-0.289633</td>\n",
              "    </tr>\n",
              "    <tr>\n",
              "      <th>superplasticizer</th>\n",
              "      <td>0.092386</td>\n",
              "      <td>0.043270</td>\n",
              "      <td>0.377503</td>\n",
              "      <td>-0.657533</td>\n",
              "      <td>1.000000</td>\n",
              "      <td>-0.265999</td>\n",
              "      <td>0.222691</td>\n",
              "      <td>-0.192700</td>\n",
              "      <td>0.366079</td>\n",
              "    </tr>\n",
              "    <tr>\n",
              "      <th>coarseaggregate</th>\n",
              "      <td>-0.109349</td>\n",
              "      <td>-0.283999</td>\n",
              "      <td>-0.009961</td>\n",
              "      <td>-0.182294</td>\n",
              "      <td>-0.265999</td>\n",
              "      <td>1.000000</td>\n",
              "      <td>-0.178481</td>\n",
              "      <td>-0.003016</td>\n",
              "      <td>-0.164935</td>\n",
              "    </tr>\n",
              "    <tr>\n",
              "      <th>fineaggregate</th>\n",
              "      <td>-0.222718</td>\n",
              "      <td>-0.281603</td>\n",
              "      <td>0.079108</td>\n",
              "      <td>-0.450661</td>\n",
              "      <td>0.222691</td>\n",
              "      <td>-0.178481</td>\n",
              "      <td>1.000000</td>\n",
              "      <td>-0.156095</td>\n",
              "      <td>-0.167241</td>\n",
              "    </tr>\n",
              "    <tr>\n",
              "      <th>age</th>\n",
              "      <td>0.081946</td>\n",
              "      <td>-0.044246</td>\n",
              "      <td>-0.154371</td>\n",
              "      <td>0.277618</td>\n",
              "      <td>-0.192700</td>\n",
              "      <td>-0.003016</td>\n",
              "      <td>-0.156095</td>\n",
              "      <td>1.000000</td>\n",
              "      <td>0.328873</td>\n",
              "    </tr>\n",
              "    <tr>\n",
              "      <th>csMPa</th>\n",
              "      <td>0.497832</td>\n",
              "      <td>0.134829</td>\n",
              "      <td>-0.105755</td>\n",
              "      <td>-0.289633</td>\n",
              "      <td>0.366079</td>\n",
              "      <td>-0.164935</td>\n",
              "      <td>-0.167241</td>\n",
              "      <td>0.328873</td>\n",
              "      <td>1.000000</td>\n",
              "    </tr>\n",
              "  </tbody>\n",
              "</table>\n",
              "</div>"
            ],
            "text/plain": [
              "                    cement      slag  ...       age     csMPa\n",
              "cement            1.000000 -0.275216  ...  0.081946  0.497832\n",
              "slag             -0.275216  1.000000  ... -0.044246  0.134829\n",
              "flyash           -0.397467 -0.323580  ... -0.154371 -0.105755\n",
              "water            -0.081587  0.107252  ...  0.277618 -0.289633\n",
              "superplasticizer  0.092386  0.043270  ... -0.192700  0.366079\n",
              "coarseaggregate  -0.109349 -0.283999  ... -0.003016 -0.164935\n",
              "fineaggregate    -0.222718 -0.281603  ... -0.156095 -0.167241\n",
              "age               0.081946 -0.044246  ...  1.000000  0.328873\n",
              "csMPa             0.497832  0.134829  ...  0.328873  1.000000\n",
              "\n",
              "[9 rows x 9 columns]"
            ]
          },
          "metadata": {
            "tags": []
          },
          "execution_count": 9
        }
      ]
    },
    {
      "cell_type": "code",
      "metadata": {
        "id": "Wt4bftSQ4_7U",
        "colab_type": "code",
        "colab": {
          "base_uri": "https://localhost:8080/",
          "height": 361
        },
        "outputId": "2a253f26-032a-4d9e-8b3d-877d15f0853b"
      },
      "source": [
        "sns.heatmap(concrete_data_corr, annot=True)"
      ],
      "execution_count": null,
      "outputs": [
        {
          "output_type": "execute_result",
          "data": {
            "text/plain": [
              "<matplotlib.axes._subplots.AxesSubplot at 0x7fdb38b90da0>"
            ]
          },
          "metadata": {
            "tags": []
          },
          "execution_count": 16
        },
        {
          "output_type": "display_data",
          "data": {
            "image/png": "[encoded data removed]",
            "text/plain": [
              "<Figure size 432x288 with 2 Axes>"
            ]
          },
          "metadata": {
            "tags": [],
            "needs_background": "light"
          }
        }
      ]
    },
    {
      "cell_type": "code",
      "metadata": {
        "id": "KAi3VY8I5a4Z",
        "colab_type": "code",
        "colab": {}
      },
      "source": [
        "x = concrete_data.drop('csMPa', axis=1)\n",
        "y = concrete_data['csMPa']"
      ],
      "execution_count": null,
      "outputs": []
    },
    {
      "cell_type": "code",
      "metadata": {
        "id": "0HT1vkq35l3I",
        "colab_type": "code",
        "colab": {
          "base_uri": "https://localhost:8080/",
          "height": 119
        },
        "outputId": "e1d4b194-a0ce-4862-a67e-4c2a6ca33000"
      },
      "source": [
        "y.head()"
      ],
      "execution_count": null,
      "outputs": [
        {
          "output_type": "execute_result",
          "data": {
            "text/plain": [
              "0    79.99\n",
              "1    61.89\n",
              "2    40.27\n",
              "3    41.05\n",
              "4    44.30\n",
              "Name: csMPa, dtype: float64"
            ]
          },
          "metadata": {
            "tags": []
          },
          "execution_count": 9
        }
      ]
    },
    {
      "cell_type": "code",
      "metadata": {
        "id": "MwfCQeS55rpR",
        "colab_type": "code",
        "colab": {}
      },
      "source": [
        "from sklearn.model_selection import train_test_split\n",
        "x_train, x_test, y_train, y_test = train_test_split(x,y, test_size=0.2)"
      ],
      "execution_count": null,
      "outputs": []
    },
    {
      "cell_type": "code",
      "metadata": {
        "id": "biJ5wcFJ53th",
        "colab_type": "code",
        "colab": {}
      },
      "source": [
        "from sklearn.tree import DecisionTreeRegressor\n",
        "from sklearn.ensemble import BaggingRegressor"
      ],
      "execution_count": null,
      "outputs": []
    },
    {
      "cell_type": "markdown",
      "metadata": {
        "id": "Mnq3dxLUaq88",
        "colab_type": "text"
      },
      "source": [
        "Note : Inside the baggingRegressor(\"BASE_ESTIMATOR\"), we have choosen descision tree, you can choose whatever regression u want"
      ]
    },
    {
      "cell_type": "code",
      "metadata": {
        "id": "OgVIOXQ56KjR",
        "colab_type": "code",
        "colab": {}
      },
      "source": [
        "bag_reg  = BaggingRegressor(DecisionTreeRegressor(), n_estimators= 500, \n",
        "                            bootstrap= False,  # sample without replacement (False --> pasting)\n",
        "                            max_samples = 1.0, # draw entire samples\n",
        "                            n_jobs = -1) "
      ],
      "execution_count": null,
      "outputs": []
    },
    {
      "cell_type": "code",
      "metadata": {
        "id": "5zw5fQSr6f4o",
        "colab_type": "code",
        "colab": {
          "base_uri": "https://localhost:8080/",
          "height": 289
        },
        "outputId": "c8d287a4-4a31-4112-e94d-014ddc71536b"
      },
      "source": [
        "bag_reg.fit(x_train,y_train)"
      ],
      "execution_count": null,
      "outputs": [
        {
          "output_type": "execute_result",
          "data": {
            "text/plain": [
              "BaggingRegressor(base_estimator=DecisionTreeRegressor(ccp_alpha=0.0,\n",
              "                                                      criterion='mse',\n",
              "                                                      max_depth=None,\n",
              "                                                      max_features=None,\n",
              "                                                      max_leaf_nodes=None,\n",
              "                                                      min_impurity_decrease=0.0,\n",
              "                                                      min_impurity_split=None,\n",
              "                                                      min_samples_leaf=1,\n",
              "                                                      min_samples_split=2,\n",
              "                                                      min_weight_fraction_leaf=0.0,\n",
              "                                                      presort='deprecated',\n",
              "                                                      random_state=None,\n",
              "                                                      splitter='best'),\n",
              "                 bootstrap=False, bootstrap_features=False, max_features=1.0,\n",
              "                 max_samples=1.0, n_estimators=500, n_jobs=-1, oob_score=False,\n",
              "                 random_state=None, verbose=0, warm_start=False)"
            ]
          },
          "metadata": {
            "tags": []
          },
          "execution_count": 23
        }
      ]
    },
    {
      "cell_type": "code",
      "metadata": {
        "id": "TwKz0SEJ6zja",
        "colab_type": "code",
        "colab": {}
      },
      "source": [
        "y_pred = bag_reg.predict(x_test)"
      ],
      "execution_count": null,
      "outputs": []
    },
    {
      "cell_type": "code",
      "metadata": {
        "id": "xTGiN_QN66CD",
        "colab_type": "code",
        "colab": {
          "base_uri": "https://localhost:8080/",
          "height": 359
        },
        "outputId": "eb846475-d3d3-4d19-9a69-f5b59b3323b6"
      },
      "source": [
        "df = pd.DataFrame({\n",
        "    'Actual': y_test,\n",
        "    'Predicted': y_pred\n",
        "})\n",
        "df.sample(10)"
      ],
      "execution_count": null,
      "outputs": [
        {
          "output_type": "execute_result",
          "data": {
            "text/html": [
              "<div>\n",
              "<style scoped>\n",
              "    .dataframe tbody tr th:only-of-type {\n",
              "        vertical-align: middle;\n",
              "    }\n",
              "\n",
              "    .dataframe tbody tr th {\n",
              "        vertical-align: top;\n",
              "    }\n",
              "\n",
              "    .dataframe thead th {\n",
              "        text-align: right;\n",
              "    }\n",
              "</style>\n",
              "<table border=\"1\" class=\"dataframe\">\n",
              "  <thead>\n",
              "    <tr style=\"text-align: right;\">\n",
              "      <th></th>\n",
              "      <th>Actual</th>\n",
              "      <th>Predicted</th>\n",
              "    </tr>\n",
              "  </thead>\n",
              "  <tbody>\n",
              "    <tr>\n",
              "      <th>191</th>\n",
              "      <td>22.84</td>\n",
              "      <td>24.68554</td>\n",
              "    </tr>\n",
              "    <tr>\n",
              "      <th>261</th>\n",
              "      <td>37.40</td>\n",
              "      <td>31.98178</td>\n",
              "    </tr>\n",
              "    <tr>\n",
              "      <th>389</th>\n",
              "      <td>44.13</td>\n",
              "      <td>44.09000</td>\n",
              "    </tr>\n",
              "    <tr>\n",
              "      <th>864</th>\n",
              "      <td>31.87</td>\n",
              "      <td>31.69556</td>\n",
              "    </tr>\n",
              "    <tr>\n",
              "      <th>728</th>\n",
              "      <td>31.74</td>\n",
              "      <td>31.45000</td>\n",
              "    </tr>\n",
              "    <tr>\n",
              "      <th>868</th>\n",
              "      <td>44.28</td>\n",
              "      <td>44.28000</td>\n",
              "    </tr>\n",
              "    <tr>\n",
              "      <th>391</th>\n",
              "      <td>55.65</td>\n",
              "      <td>55.55000</td>\n",
              "    </tr>\n",
              "    <tr>\n",
              "      <th>131</th>\n",
              "      <td>52.20</td>\n",
              "      <td>46.68000</td>\n",
              "    </tr>\n",
              "    <tr>\n",
              "      <th>189</th>\n",
              "      <td>10.38</td>\n",
              "      <td>7.79512</td>\n",
              "    </tr>\n",
              "    <tr>\n",
              "      <th>418</th>\n",
              "      <td>11.98</td>\n",
              "      <td>16.67250</td>\n",
              "    </tr>\n",
              "  </tbody>\n",
              "</table>\n",
              "</div>"
            ],
            "text/plain": [
              "     Actual  Predicted\n",
              "191   22.84   24.68554\n",
              "261   37.40   31.98178\n",
              "389   44.13   44.09000\n",
              "864   31.87   31.69556\n",
              "728   31.74   31.45000\n",
              "868   44.28   44.28000\n",
              "391   55.65   55.55000\n",
              "131   52.20   46.68000\n",
              "189   10.38    7.79512\n",
              "418   11.98   16.67250"
            ]
          },
          "metadata": {
            "tags": []
          },
          "execution_count": 26
        }
      ]
    },
    {
      "cell_type": "code",
      "metadata": {
        "id": "VGf7GR_J7IKZ",
        "colab_type": "code",
        "colab": {
          "base_uri": "https://localhost:8080/",
          "height": 34
        },
        "outputId": "e49eb95e-a8d1-4ed3-b5d7-687dd042abf5"
      },
      "source": [
        "from sklearn.metrics import r2_score\n",
        "r2_score(y_test, y_pred) # good"
      ],
      "execution_count": null,
      "outputs": [
        {
          "output_type": "execute_result",
          "data": {
            "text/plain": [
              "0.8384595486956151"
            ]
          },
          "metadata": {
            "tags": []
          },
          "execution_count": 27
        }
      ]
    },
    {
      "cell_type": "code",
      "metadata": {
        "id": "5d2l2WO37V2s",
        "colab_type": "code",
        "colab": {}
      },
      "source": [
        "# plot both graphs orig, pred "
      ],
      "execution_count": null,
      "outputs": []
    },
    {
      "cell_type": "markdown",
      "metadata": {
        "id": "4Robrs8K7jnd",
        "colab_type": "text"
      },
      "source": [
        "#**BOOSTING**\n",
        "note: set bootstrap to True for Bagging    \n",
        "set oob_score = True   \n",
        "set max_sample to 0.8 (80 percent)\n"
      ]
    },
    {
      "cell_type": "code",
      "metadata": {
        "id": "-sU1SzRy7gXl",
        "colab_type": "code",
        "colab": {}
      },
      "source": [
        "bag_reg  = BaggingRegressor(DecisionTreeRegressor(), n_estimators= 500, \n",
        "                            bootstrap= True,  # sample with replacement (Fasle --> pasting)\n",
        "                            max_samples = 0.8, # draw entire samples\n",
        "                            n_jobs = -1,\n",
        "                            oob_score = True) # out of bag evaluation (instances not used in training are used after trainig )"
      ],
      "execution_count": null,
      "outputs": []
    },
    {
      "cell_type": "code",
      "metadata": {
        "id": "I0Sg0_W-78Pm",
        "colab_type": "code",
        "colab": {
          "base_uri": "https://localhost:8080/",
          "height": 289
        },
        "outputId": "9feea109-bae7-4cb7-ec74-44d875df71f8"
      },
      "source": [
        "bag_reg.fit(x_train,y_train)"
      ],
      "execution_count": null,
      "outputs": [
        {
          "output_type": "execute_result",
          "data": {
            "text/plain": [
              "BaggingRegressor(base_estimator=DecisionTreeRegressor(ccp_alpha=0.0,\n",
              "                                                      criterion='mse',\n",
              "                                                      max_depth=None,\n",
              "                                                      max_features=None,\n",
              "                                                      max_leaf_nodes=None,\n",
              "                                                      min_impurity_decrease=0.0,\n",
              "                                                      min_impurity_split=None,\n",
              "                                                      min_samples_leaf=1,\n",
              "                                                      min_samples_split=2,\n",
              "                                                      min_weight_fraction_leaf=0.0,\n",
              "                                                      presort='deprecated',\n",
              "                                                      random_state=None,\n",
              "                                                      splitter='best'),\n",
              "                 bootstrap=True, bootstrap_features=False, max_features=1.0,\n",
              "                 max_samples=0.8, n_estimators=500, n_jobs=-1, oob_score=True,\n",
              "                 random_state=None, verbose=0, warm_start=False)"
            ]
          },
          "metadata": {
            "tags": []
          },
          "execution_count": 31
        }
      ]
    },
    {
      "cell_type": "code",
      "metadata": {
        "id": "L1a1_7ec8Avv",
        "colab_type": "code",
        "colab": {
          "base_uri": "https://localhost:8080/",
          "height": 34
        },
        "outputId": "3a10daf9-f6b1-40a8-e30c-a9b62c2cb4e4"
      },
      "source": [
        "bag_reg.oob_score_ # indicator of how well it will perform on new test data"
      ],
      "execution_count": null,
      "outputs": [
        {
          "output_type": "execute_result",
          "data": {
            "text/plain": [
              "0.9164943022852209"
            ]
          },
          "metadata": {
            "tags": []
          },
          "execution_count": 32
        }
      ]
    },
    {
      "cell_type": "code",
      "metadata": {
        "id": "WbDuJSCQ8p8K",
        "colab_type": "code",
        "colab": {
          "base_uri": "https://localhost:8080/",
          "height": 34
        },
        "outputId": "af56cecc-ff04-4ee6-d09a-48fbe5b8b7b6"
      },
      "source": [
        "y_pred = bag_reg.predict(x_test)\n",
        "r2_score(y_test, y_pred) # observve that it is close to the oob_score_"
      ],
      "execution_count": null,
      "outputs": [
        {
          "output_type": "execute_result",
          "data": {
            "text/plain": [
              "0.8916162692181966"
            ]
          },
          "metadata": {
            "tags": []
          },
          "execution_count": 35
        }
      ]
    },
    {
      "cell_type": "markdown",
      "metadata": {
        "id": "lC6e1JxY9ZoS",
        "colab_type": "text"
      },
      "source": [
        "#**RANDOM SUBSPACES METHOD**\n",
        "this is pasting again...\n",
        "\n",
        "subsampling of features of train data and not the records\n",
        "\n",
        "all samples are used for each individual predictor however each inividual predictor in our subsample will be trained using a fraction of input features"
      ]
    },
    {
      "cell_type": "markdown",
      "metadata": {
        "id": "XqD0ADIr-Bnk",
        "colab_type": "text"
      },
      "source": [
        "works well if more dimensions are there in the input (more features)"
      ]
    },
    {
      "cell_type": "code",
      "metadata": {
        "id": "ZbvZdspB8lvo",
        "colab_type": "code",
        "colab": {}
      },
      "source": [
        "bag_reg  = BaggingRegressor(DecisionTreeRegressor(), n_estimators= 500, \n",
        "                            bootstrap= True,  # sample without replacement (Fasle --> pasting)\n",
        "                            max_samples = 1.0, # draw entire samples\n",
        "                            n_jobs = -1,\n",
        "                            bootstrap_features = True,\n",
        "                            max_features = 0.8) # out of bag evaluation (instances not used in training are used after trainig )"
      ],
      "execution_count": null,
      "outputs": []
    },
    {
      "cell_type": "code",
      "metadata": {
        "id": "UmpsVMv79VdJ",
        "colab_type": "code",
        "colab": {
          "base_uri": "https://localhost:8080/",
          "height": 289
        },
        "outputId": "5deaae58-1ecc-434a-d313-57dcef96fc10"
      },
      "source": [
        "bag_reg.fit(x_train,y_train)"
      ],
      "execution_count": null,
      "outputs": [
        {
          "output_type": "execute_result",
          "data": {
            "text/plain": [
              "BaggingRegressor(base_estimator=DecisionTreeRegressor(ccp_alpha=0.0,\n",
              "                                                      criterion='mse',\n",
              "                                                      max_depth=None,\n",
              "                                                      max_features=None,\n",
              "                                                      max_leaf_nodes=None,\n",
              "                                                      min_impurity_decrease=0.0,\n",
              "                                                      min_impurity_split=None,\n",
              "                                                      min_samples_leaf=1,\n",
              "                                                      min_samples_split=2,\n",
              "                                                      min_weight_fraction_leaf=0.0,\n",
              "                                                      presort='deprecated',\n",
              "                                                      random_state=None,\n",
              "                                                      splitter='best'),\n",
              "                 bootstrap=True, bootstrap_features=True, max_features=0.8,\n",
              "                 max_samples=1.0, n_estimators=500, n_jobs=-1, oob_score=False,\n",
              "                 random_state=None, verbose=0, warm_start=False)"
            ]
          },
          "metadata": {
            "tags": []
          },
          "execution_count": 38
        }
      ]
    },
    {
      "cell_type": "code",
      "metadata": {
        "id": "Oj5hGyET-Jn6",
        "colab_type": "code",
        "colab": {
          "base_uri": "https://localhost:8080/",
          "height": 34
        },
        "outputId": "0b20a7fa-5cae-4839-8f1d-e811c3fecbc1"
      },
      "source": [
        "y_pred = bag_reg.predict(x_test)\n",
        "r2_score(y_test, y_pred)"
      ],
      "execution_count": null,
      "outputs": [
        {
          "output_type": "execute_result",
          "data": {
            "text/plain": [
              "0.7572830078592448"
            ]
          },
          "metadata": {
            "tags": []
          },
          "execution_count": 39
        }
      ]
    },
    {
      "cell_type": "code",
      "metadata": {
        "id": "_-X6vmSr-SGD",
        "colab_type": "code",
        "colab": {}
      },
      "source": [
        "# this is a little lower..didn't  work well for our dataset."
      ],
      "execution_count": null,
      "outputs": []
    },
    {
      "cell_type": "markdown",
      "metadata": {
        "id": "NPmxgVnLAn_x",
        "colab_type": "text"
      },
      "source": [
        "#**RF and Xtra TREES**"
      ]
    },
    {
      "cell_type": "code",
      "metadata": {
        "id": "k-czxqpWAumV",
        "colab_type": "code",
        "colab": {
          "base_uri": "https://localhost:8080/",
          "height": 136
        },
        "outputId": "7402ff56-d88d-4116-dd4e-9e867fb614f3"
      },
      "source": [
        "from sklearn.ensemble import RandomForestRegressor # note it is bagging by default, can change it to pasting by setting bootstrap fasle\n",
        "rand_reg = RandomForestRegressor(n_estimators=600, max_leaf_nodes=12, n_jobs=-1)\n",
        "rand_reg.fit(x_train, y_train)"
      ],
      "execution_count": null,
      "outputs": [
        {
          "output_type": "execute_result",
          "data": {
            "text/plain": [
              "RandomForestRegressor(bootstrap=True, ccp_alpha=0.0, criterion='mse',\n",
              "                      max_depth=None, max_features='auto', max_leaf_nodes=12,\n",
              "                      max_samples=None, min_impurity_decrease=0.0,\n",
              "                      min_impurity_split=None, min_samples_leaf=1,\n",
              "                      min_samples_split=2, min_weight_fraction_leaf=0.0,\n",
              "                      n_estimators=600, n_jobs=-1, oob_score=False,\n",
              "                      random_state=None, verbose=0, warm_start=False)"
            ]
          },
          "metadata": {
            "tags": []
          },
          "execution_count": 40
        }
      ]
    },
    {
      "cell_type": "code",
      "metadata": {
        "id": "51l1fCBpBIrl",
        "colab_type": "code",
        "colab": {
          "base_uri": "https://localhost:8080/",
          "height": 34
        },
        "outputId": "a9da1160-7c09-4cf2-d90a-8f529c89a056"
      },
      "source": [
        "y_pred = rand_reg.predict(x_test)\n",
        "r2_score(y_test, y_pred)"
      ],
      "execution_count": null,
      "outputs": [
        {
          "output_type": "execute_result",
          "data": {
            "text/plain": [
              "0.777802378817003"
            ]
          },
          "metadata": {
            "tags": []
          },
          "execution_count": 41
        }
      ]
    },
    {
      "cell_type": "markdown",
      "metadata": {
        "id": "sj53rp8XBsdn",
        "colab_type": "text"
      },
      "source": [
        "where exactly the features lies and where the node exist in depth of the tree is  a measure of relative importance of the feature\n",
        "\n",
        "feature where node is close to root of tree have greater effect on final predicted value\n",
        "\n"
      ]
    },
    {
      "cell_type": "markdown",
      "metadata": {
        "id": "UDw_-ZraCfQI",
        "colab_type": "text"
      },
      "source": [
        "#**FEATURE IMPORTANCES**"
      ]
    },
    {
      "cell_type": "code",
      "metadata": {
        "id": "PVAOwJrMBd_O",
        "colab_type": "code",
        "colab": {
          "base_uri": "https://localhost:8080/",
          "height": 170
        },
        "outputId": "ac9b9154-b4b9-421b-bacd-4a1ae60447ee"
      },
      "source": [
        "important_features = pd.Series(rand_reg.feature_importances_, index=x.columns).\\\n",
        "sort_values(ascending=False)\n",
        "\n",
        "important_features"
      ],
      "execution_count": null,
      "outputs": [
        {
          "output_type": "execute_result",
          "data": {
            "text/plain": [
              "age                 0.406970\n",
              "cement              0.356838\n",
              "water               0.083451\n",
              "slag                0.065778\n",
              "superplasticizer    0.065699\n",
              "fineaggregate       0.012740\n",
              "flyash              0.006386\n",
              "coarseaggregate     0.002139\n",
              "dtype: float64"
            ]
          },
          "metadata": {
            "tags": []
          },
          "execution_count": 42
        }
      ]
    },
    {
      "cell_type": "code",
      "metadata": {
        "id": "86GwuV_8CaVN",
        "colab_type": "code",
        "colab": {}
      },
      "source": [
        "# then do PCA or dimensionality reducn"
      ],
      "execution_count": null,
      "outputs": []
    },
    {
      "cell_type": "code",
      "metadata": {
        "id": "29i1tLBHCmb4",
        "colab_type": "code",
        "colab": {}
      },
      "source": [
        "#the extra randomness by the randomforrest contibuted to the better r2 score when we compare it with bagging descision tree"
      ],
      "execution_count": null,
      "outputs": []
    },
    {
      "cell_type": "markdown",
      "metadata": {
        "id": "KVXZaWSrC9bq",
        "colab_type": "text"
      },
      "source": [
        "#**EXTRA TRESS**\n",
        "uses random threshold not best threshold as in case of RF"
      ]
    },
    {
      "cell_type": "code",
      "metadata": {
        "id": "8N2iW8bBC8ZH",
        "colab_type": "code",
        "colab": {}
      },
      "source": [
        "from sklearn.ensemble import ExtraTreesRegressor"
      ],
      "execution_count": null,
      "outputs": []
    },
    {
      "cell_type": "code",
      "metadata": {
        "id": "6oTzCV9-DRaN",
        "colab_type": "code",
        "colab": {
          "base_uri": "https://localhost:8080/",
          "height": 136
        },
        "outputId": "14560536-b0b8-4378-df1a-052cb58fb3c6"
      },
      "source": [
        "extra_reg = ExtraTreesRegressor(n_estimators=600, max_leaf_nodes=12, n_jobs=-1)\n",
        "extra_reg.fit(x_train, y_train)"
      ],
      "execution_count": null,
      "outputs": [
        {
          "output_type": "execute_result",
          "data": {
            "text/plain": [
              "ExtraTreesRegressor(bootstrap=False, ccp_alpha=0.0, criterion='mse',\n",
              "                    max_depth=None, max_features='auto', max_leaf_nodes=12,\n",
              "                    max_samples=None, min_impurity_decrease=0.0,\n",
              "                    min_impurity_split=None, min_samples_leaf=1,\n",
              "                    min_samples_split=2, min_weight_fraction_leaf=0.0,\n",
              "                    n_estimators=600, n_jobs=-1, oob_score=False,\n",
              "                    random_state=None, verbose=0, warm_start=False)"
            ]
          },
          "metadata": {
            "tags": []
          },
          "execution_count": 14
        }
      ]
    },
    {
      "cell_type": "code",
      "metadata": {
        "id": "BtamMG9yDhKu",
        "colab_type": "code",
        "colab": {}
      },
      "source": [
        "# note it uses pasting by default"
      ],
      "execution_count": null,
      "outputs": []
    },
    {
      "cell_type": "code",
      "metadata": {
        "id": "OVcqNyRuDjyJ",
        "colab_type": "code",
        "colab": {
          "base_uri": "https://localhost:8080/",
          "height": 34
        },
        "outputId": "764a60fa-0f80-48f8-9d07-0791555c3668"
      },
      "source": [
        "y_pred = extra_reg.predict(x_test)\n",
        "from sklearn.metrics import r2_score\n",
        "r2_score(y_test, y_pred)\n",
        "#r2_score\n",
        "# do the feature importance"
      ],
      "execution_count": null,
      "outputs": [
        {
          "output_type": "execute_result",
          "data": {
            "text/plain": [
              "0.7204819623795149"
            ]
          },
          "metadata": {
            "tags": []
          },
          "execution_count": 19
        }
      ]
    },
    {
      "cell_type": "code",
      "metadata": {
        "id": "PLC8XTjND4uh",
        "colab_type": "code",
        "colab": {}
      },
      "source": [
        "# you can also do feature importance for classification"
      ],
      "execution_count": null,
      "outputs": []
    },
    {
      "cell_type": "markdown",
      "metadata": {
        "id": "PCGLXo4eaDg3",
        "colab_type": "text"
      },
      "source": [
        "#**ADABOOST**"
      ]
    },
    {
      "cell_type": "markdown",
      "metadata": {
        "id": "1eNZ_17KaG_N",
        "colab_type": "text"
      },
      "source": [
        "ADAPTIVE BOOSTING --> trains model in sequence\n",
        "\n",
        " the misclassified training points from each individual learner are UPWEIGHTED.\n",
        "# they occur over and over...thus seq learner learns more about the mistake\n",
        "Higher Weights --> assigned to more accurate predictors\n",
        "\n",
        "neagative weight --> wrong pred\n",
        "\n",
        "zero weight--> guessed prediction not learning "
      ]
    },
    {
      "cell_type": "code",
      "metadata": {
        "id": "XdykvqCaaRtR",
        "colab_type": "code",
        "colab": {}
      },
      "source": [
        "from sklearn.ensemble import AdaBoostRegressor\n",
        "from sklearn.tree import DecisionTreeRegressor # we have choosen this, you can replace with any reg model # these are weak learners"
      ],
      "execution_count": null,
      "outputs": []
    },
    {
      "cell_type": "code",
      "metadata": {
        "id": "KfC1E6llakkH",
        "colab_type": "code",
        "colab": {}
      },
      "source": [
        "ada_reg = AdaBoostRegressor(DecisionTreeRegressor(max_depth=4),\n",
        "                            n_estimators=100,\n",
        "                            learning_rate = 1.0)"
      ],
      "execution_count": null,
      "outputs": []
    },
    {
      "cell_type": "markdown",
      "metadata": {
        "id": "JPZXI2lEbeO4",
        "colab_type": "text"
      },
      "source": [
        "adaboost: apply weakleraners in sequence\n",
        "early stopping is on..if found before 100\n",
        "learnig rate.. shrinks the contribution of each regressor by learnig rate\n",
        "trade off--- btw learning rate and N_estimators"
      ]
    },
    {
      "cell_type": "code",
      "metadata": {
        "id": "k2WSjBqybQWB",
        "colab_type": "code",
        "colab": {
          "base_uri": "https://localhost:8080/",
          "height": 272
        },
        "outputId": "9e819a3d-096f-4ccc-9347-b669a362fe02"
      },
      "source": [
        "ada_reg.fit(x_train,y_train)"
      ],
      "execution_count": null,
      "outputs": [
        {
          "output_type": "execute_result",
          "data": {
            "text/plain": [
              "AdaBoostRegressor(base_estimator=DecisionTreeRegressor(ccp_alpha=0.0,\n",
              "                                                       criterion='mse',\n",
              "                                                       max_depth=4,\n",
              "                                                       max_features=None,\n",
              "                                                       max_leaf_nodes=None,\n",
              "                                                       min_impurity_decrease=0.0,\n",
              "                                                       min_impurity_split=None,\n",
              "                                                       min_samples_leaf=1,\n",
              "                                                       min_samples_split=2,\n",
              "                                                       min_weight_fraction_leaf=0.0,\n",
              "                                                       presort='deprecated',\n",
              "                                                       random_state=None,\n",
              "                                                       splitter='best'),\n",
              "                  learning_rate=1.0, loss='linear', n_estimators=100,\n",
              "                  random_state=None)"
            ]
          },
          "metadata": {
            "tags": []
          },
          "execution_count": 14
        }
      ]
    },
    {
      "cell_type": "code",
      "metadata": {
        "id": "IPe9CInrbTXc",
        "colab_type": "code",
        "colab": {}
      },
      "source": [
        "y_pred = ada_reg.predict(x_test)"
      ],
      "execution_count": null,
      "outputs": []
    },
    {
      "cell_type": "code",
      "metadata": {
        "id": "jl34dg_UibYV",
        "colab_type": "code",
        "colab": {
          "base_uri": "https://localhost:8080/",
          "height": 34
        },
        "outputId": "7ec6a515-b799-4579-ad31-1f00457a7bfa"
      },
      "source": [
        "from sklearn.metrics import r2_score\n",
        "r2_score(y_test, y_pred)"
      ],
      "execution_count": null,
      "outputs": [
        {
          "output_type": "execute_result",
          "data": {
            "text/plain": [
              "0.8150594739941516"
            ]
          },
          "metadata": {
            "tags": []
          },
          "execution_count": 17
        }
      ]
    },
    {
      "cell_type": "markdown",
      "metadata": {
        "id": "3aivtZ3aijM5",
        "colab_type": "text"
      },
      "source": [
        "**NOTE: HIGH R2 SCORE ABOVE**"
      ]
    },
    {
      "cell_type": "code",
      "metadata": {
        "id": "6BGvQ-Lwiiri",
        "colab_type": "code",
        "colab": {
          "base_uri": "https://localhost:8080/",
          "height": 357
        },
        "outputId": "bf2be574-ebbf-4227-ae10-7d06048a098a"
      },
      "source": [
        "ada_reg.estimator_weights_"
      ],
      "execution_count": null,
      "outputs": [
        {
          "output_type": "execute_result",
          "data": {
            "text/plain": [
              "array([1.7493934 , 1.37065286, 1.11688134, 1.12948373, 1.13170663,\n",
              "       0.95459366, 1.16973557, 1.23820419, 0.98457279, 0.94747178,\n",
              "       0.92672723, 0.72118977, 1.34654821, 1.0998886 , 1.26961957,\n",
              "       0.69599356, 0.8033019 , 1.20178683, 0.75059287, 1.246172  ,\n",
              "       0.88826424, 1.20602756, 0.79557185, 0.64621238, 1.30036258,\n",
              "       0.8548096 , 0.77882858, 0.86206138, 1.45746967, 0.97968291,\n",
              "       0.87243322, 0.72844043, 1.21069891, 0.58371751, 0.64435494,\n",
              "       0.47208296, 0.73408747, 0.75147927, 0.36448866, 0.80378414,\n",
              "       1.23214438, 0.37945628, 0.30935824, 0.76206488, 0.62011822,\n",
              "       0.76717915, 0.85290879, 0.64478872, 0.59463939, 0.60088637,\n",
              "       0.62122586, 0.89834266, 0.60439685, 0.53732927, 0.36219196,\n",
              "       0.94359175, 1.05292207, 0.51234043, 0.91053614, 0.39631191,\n",
              "       1.07106527, 0.93663094, 1.08577742, 0.35859641, 0.71738059,\n",
              "       0.48351509, 0.87344159, 0.72026079, 0.55253313, 0.83196326,\n",
              "       1.08247725, 0.89278701, 0.91847091, 0.9983137 , 0.77197714,\n",
              "       1.06965053, 0.70712254, 0.47943415, 0.89790171, 0.88885167,\n",
              "       0.857746  , 0.80805101, 0.91351728, 1.24417859, 0.88515677,\n",
              "       0.86225859, 0.63295782, 1.13320856, 0.54371945, 0.3662407 ,\n",
              "       0.68577691, 0.56116343, 0.96650481, 1.0697894 , 0.72432374,\n",
              "       0.97169683, 0.7955015 , 0.9953211 , 0.9600615 , 0.70924181])"
            ]
          },
          "metadata": {
            "tags": []
          },
          "execution_count": 18
        }
      ]
    },
    {
      "cell_type": "code",
      "metadata": {
        "id": "UbEDjhR4ie9a",
        "colab_type": "code",
        "colab": {}
      },
      "source": [
        "# 100 weights corresponding to 100 estimators"
      ],
      "execution_count": null,
      "outputs": []
    },
    {
      "cell_type": "code",
      "metadata": {
        "id": "epKe8rJai6yY",
        "colab_type": "code",
        "colab": {}
      },
      "source": [
        "new_ada_reg = AdaBoostRegressor(DecisionTreeRegressor(max_depth=2),\n",
        "                                n_estimators=200,\n",
        "                                learning_rate = 0.5)"
      ],
      "execution_count": null,
      "outputs": []
    },
    {
      "cell_type": "code",
      "metadata": {
        "id": "3pdhVR0LjGY7",
        "colab_type": "code",
        "colab": {
          "base_uri": "https://localhost:8080/",
          "height": 34
        },
        "outputId": "f3702ebe-59cf-4d01-a59f-2f4e8d4eac63"
      },
      "source": [
        "new_ada_reg.fit(x_train, y_train)\n",
        "y_pred= new_ada_reg.predict(x_test)\n",
        "r2_score(y_test, y_pred)"
      ],
      "execution_count": null,
      "outputs": [
        {
          "output_type": "execute_result",
          "data": {
            "text/plain": [
              "0.7260565265123788"
            ]
          },
          "metadata": {
            "tags": []
          },
          "execution_count": 21
        }
      ]
    },
    {
      "cell_type": "markdown",
      "metadata": {
        "id": "OC3iW64EjTvf",
        "colab_type": "text"
      },
      "source": [
        "note r2 square has reduced if we half the learning rate, and incr the estimators (double)\n",
        "\n",
        "play around to find best accuracy"
      ]
    },
    {
      "cell_type": "markdown",
      "metadata": {
        "id": "gesek1w9wfbj",
        "colab_type": "text"
      },
      "source": [
        "#**GRADIENT BOOSTING**"
      ]
    },
    {
      "cell_type": "code",
      "metadata": {
        "id": "29t4hSB7jRyQ",
        "colab_type": "code",
        "colab": {}
      },
      "source": [
        "from sklearn.tree import DecisionTreeRegressor\n",
        "# (each descison tree will learn from their prev tree in sequence)"
      ],
      "execution_count": null,
      "outputs": []
    },
    {
      "cell_type": "code",
      "metadata": {
        "id": "MWZo06C3wwec",
        "colab_type": "code",
        "colab": {
          "base_uri": "https://localhost:8080/",
          "height": 119
        },
        "outputId": "afc5c989-bb9d-4d19-d721-d2b07bd56ada"
      },
      "source": [
        "tree_reg1 = DecisionTreeRegressor(max_depth=3)\n",
        "tree_reg1.fit(x_train, y_train)"
      ],
      "execution_count": null,
      "outputs": [
        {
          "output_type": "execute_result",
          "data": {
            "text/plain": [
              "DecisionTreeRegressor(ccp_alpha=0.0, criterion='mse', max_depth=3,\n",
              "                      max_features=None, max_leaf_nodes=None,\n",
              "                      min_impurity_decrease=0.0, min_impurity_split=None,\n",
              "                      min_samples_leaf=1, min_samples_split=2,\n",
              "                      min_weight_fraction_leaf=0.0, presort='deprecated',\n",
              "                      random_state=None, splitter='best')"
            ]
          },
          "metadata": {
            "tags": []
          },
          "execution_count": 23
        }
      ]
    },
    {
      "cell_type": "markdown",
      "metadata": {
        "id": "31wJ6dD3xOrW",
        "colab_type": "text"
      },
      "source": [
        "example of residual error"
      ]
    },
    {
      "cell_type": "code",
      "metadata": {
        "id": "GyBvziBGw7Vq",
        "colab_type": "code",
        "colab": {
          "base_uri": "https://localhost:8080/",
          "height": 204
        },
        "outputId": "2efa9e7a-1f9e-450a-92cc-314e68d66a0b"
      },
      "source": [
        "y2 = y_train - tree_reg1.predict(x_train)\n",
        "y2[:10]"
      ],
      "execution_count": null,
      "outputs": [
        {
          "output_type": "execute_result",
          "data": {
            "text/plain": [
              "926     4.606176\n",
              "625    -6.999281\n",
              "222   -11.289281\n",
              "195    -2.428400\n",
              "457    -0.649281\n",
              "622    -3.769281\n",
              "984   -16.303824\n",
              "97      5.551667\n",
              "218     0.470719\n",
              "542   -18.059281\n",
              "Name: csMPa, dtype: float64"
            ]
          },
          "metadata": {
            "tags": []
          },
          "execution_count": 24
        }
      ]
    },
    {
      "cell_type": "code",
      "metadata": {
        "id": "4wJ1qt_5xEk3",
        "colab_type": "code",
        "colab": {}
      },
      "source": [
        "# these are RESIDUAL ERRORS --> the Actual - Predicted y values"
      ],
      "execution_count": null,
      "outputs": []
    },
    {
      "cell_type": "code",
      "metadata": {
        "id": "mANzDgDVxTPe",
        "colab_type": "code",
        "colab": {
          "base_uri": "https://localhost:8080/",
          "height": 119
        },
        "outputId": "49aecce7-5621-43fa-c3d2-995fe96b6587"
      },
      "source": [
        "tree_reg2 = DecisionTreeRegressor(max_depth=4)\n",
        "tree_reg2.fit(x_train, y2) # not we train on y2 (residual error)"
      ],
      "execution_count": null,
      "outputs": [
        {
          "output_type": "execute_result",
          "data": {
            "text/plain": [
              "DecisionTreeRegressor(ccp_alpha=0.0, criterion='mse', max_depth=4,\n",
              "                      max_features=None, max_leaf_nodes=None,\n",
              "                      min_impurity_decrease=0.0, min_impurity_split=None,\n",
              "                      min_samples_leaf=1, min_samples_split=2,\n",
              "                      min_weight_fraction_leaf=0.0, presort='deprecated',\n",
              "                      random_state=None, splitter='best')"
            ]
          },
          "metadata": {
            "tags": []
          },
          "execution_count": 26
        }
      ]
    },
    {
      "cell_type": "code",
      "metadata": {
        "id": "IzpfcDuExVsU",
        "colab_type": "code",
        "colab": {}
      },
      "source": [
        "y3 = y2 - tree_reg2.predict(x_train) # 3rd residual error"
      ],
      "execution_count": null,
      "outputs": []
    },
    {
      "cell_type": "code",
      "metadata": {
        "id": "m8fqjraoxjit",
        "colab_type": "code",
        "colab": {
          "base_uri": "https://localhost:8080/",
          "height": 119
        },
        "outputId": "8c10f28e-6fba-4f2d-e25f-33e291c51558"
      },
      "source": [
        "tree_reg3 = DecisionTreeRegressor(max_depth=5)\n",
        "tree_reg3.fit(x_train, y3) # not we train on y2 (residual error)"
      ],
      "execution_count": null,
      "outputs": [
        {
          "output_type": "execute_result",
          "data": {
            "text/plain": [
              "DecisionTreeRegressor(ccp_alpha=0.0, criterion='mse', max_depth=5,\n",
              "                      max_features=None, max_leaf_nodes=None,\n",
              "                      min_impurity_decrease=0.0, min_impurity_split=None,\n",
              "                      min_samples_leaf=1, min_samples_split=2,\n",
              "                      min_weight_fraction_leaf=0.0, presort='deprecated',\n",
              "                      random_state=None, splitter='best')"
            ]
          },
          "metadata": {
            "tags": []
          },
          "execution_count": 28
        }
      ]
    },
    {
      "cell_type": "code",
      "metadata": {
        "id": "Nqrf5RCbxoMJ",
        "colab_type": "code",
        "colab": {}
      },
      "source": [
        "y4 = y3 - tree_reg3.predict(x_train)"
      ],
      "execution_count": null,
      "outputs": []
    },
    {
      "cell_type": "code",
      "metadata": {
        "id": "mF8zcWL1xuPS",
        "colab_type": "code",
        "colab": {}
      },
      "source": [
        "#finally "
      ],
      "execution_count": null,
      "outputs": []
    },
    {
      "cell_type": "code",
      "metadata": {
        "id": "9oX-8Jpfx3Ng",
        "colab_type": "code",
        "colab": {}
      },
      "source": [
        "y_pred = sum(tree.predict(x_test) for tree in (tree_reg1, tree_reg2, tree_reg3))"
      ],
      "execution_count": null,
      "outputs": []
    },
    {
      "cell_type": "code",
      "metadata": {
        "id": "OuQAmRx5yGLB",
        "colab_type": "code",
        "colab": {
          "base_uri": "https://localhost:8080/",
          "height": 34
        },
        "outputId": "04fa039d-58fd-4be3-cb3d-8092eb470061"
      },
      "source": [
        "from sklearn.metrics import r2_score\n",
        "r2_score(y_test, y_pred)"
      ],
      "execution_count": null,
      "outputs": [
        {
          "output_type": "execute_result",
          "data": {
            "text/plain": [
              "0.7778959274344865"
            ]
          },
          "metadata": {
            "tags": []
          },
          "execution_count": 32
        }
      ]
    },
    {
      "cell_type": "markdown",
      "metadata": {
        "id": "hjBZIJcJyURU",
        "colab_type": "text"
      },
      "source": [
        "# **NOTE: HIGH R2 SCORE**"
      ]
    },
    {
      "cell_type": "markdown",
      "metadata": {
        "id": "P306hRM7yr2N",
        "colab_type": "text"
      },
      "source": [
        "So, as we add more residual erros like we did before and increase the max_depth for the models, the r2_score is getting better"
      ]
    },
    {
      "cell_type": "code",
      "metadata": {
        "id": "ormrDkVSySAd",
        "colab_type": "code",
        "colab": {}
      },
      "source": [
        "from sklearn.ensemble import GradientBoostingRegressor\n"
      ],
      "execution_count": null,
      "outputs": []
    },
    {
      "cell_type": "code",
      "metadata": {
        "id": "ie0dHT67y1Kt",
        "colab_type": "code",
        "colab": {
          "base_uri": "https://localhost:8080/",
          "height": 170
        },
        "outputId": "62917ee4-bfe7-49d9-debf-3726f49cee22"
      },
      "source": [
        "gbr = GradientBoostingRegressor(max_depth=3, n_estimators=3, learning_rate=1.0)\n",
        "gbr.fit(x_train, y_train)"
      ],
      "execution_count": null,
      "outputs": [
        {
          "output_type": "execute_result",
          "data": {
            "text/plain": [
              "GradientBoostingRegressor(alpha=0.9, ccp_alpha=0.0, criterion='friedman_mse',\n",
              "                          init=None, learning_rate=1.0, loss='ls', max_depth=3,\n",
              "                          max_features=None, max_leaf_nodes=None,\n",
              "                          min_impurity_decrease=0.0, min_impurity_split=None,\n",
              "                          min_samples_leaf=1, min_samples_split=2,\n",
              "                          min_weight_fraction_leaf=0.0, n_estimators=3,\n",
              "                          n_iter_no_change=None, presort='deprecated',\n",
              "                          random_state=None, subsample=1.0, tol=0.0001,\n",
              "                          validation_fraction=0.1, verbose=0, warm_start=False)"
            ]
          },
          "metadata": {
            "tags": []
          },
          "execution_count": 34
        }
      ]
    },
    {
      "cell_type": "code",
      "metadata": {
        "id": "Kd3p1MV7zDXo",
        "colab_type": "code",
        "colab": {
          "base_uri": "https://localhost:8080/",
          "height": 34
        },
        "outputId": "7e39c962-734f-4938-c1a1-f8494e9916be"
      },
      "source": [
        "y_pred = gbr.predict(x_test)\n",
        "r2_score(y_test, y_pred)"
      ],
      "execution_count": null,
      "outputs": [
        {
          "output_type": "execute_result",
          "data": {
            "text/plain": [
              "0.7524464290976497"
            ]
          },
          "metadata": {
            "tags": []
          },
          "execution_count": 35
        }
      ]
    },
    {
      "cell_type": "code",
      "metadata": {
        "id": "7p-qGbu0zPtH",
        "colab_type": "code",
        "colab": {}
      },
      "source": [
        "# this is low, so tweaking the parameterss"
      ],
      "execution_count": null,
      "outputs": []
    },
    {
      "cell_type": "code",
      "metadata": {
        "id": "5XKEUC4RzWyY",
        "colab_type": "code",
        "colab": {
          "base_uri": "https://localhost:8080/",
          "height": 170
        },
        "outputId": "7961f350-fe3b-4141-b774-9b21aa86191b"
      },
      "source": [
        "gbr = GradientBoostingRegressor(max_depth=3, n_estimators=30, learning_rate=0.1) # we lower the learnig rate significantly, but note thaat it will\n",
        "# also depend on the n_estimators, they are inversely prop, hence incr the n_estimators to 30\n",
        "gbr.fit(x_train, y_train)"
      ],
      "execution_count": null,
      "outputs": [
        {
          "output_type": "execute_result",
          "data": {
            "text/plain": [
              "GradientBoostingRegressor(alpha=0.9, ccp_alpha=0.0, criterion='friedman_mse',\n",
              "                          init=None, learning_rate=0.1, loss='ls', max_depth=3,\n",
              "                          max_features=None, max_leaf_nodes=None,\n",
              "                          min_impurity_decrease=0.0, min_impurity_split=None,\n",
              "                          min_samples_leaf=1, min_samples_split=2,\n",
              "                          min_weight_fraction_leaf=0.0, n_estimators=30,\n",
              "                          n_iter_no_change=None, presort='deprecated',\n",
              "                          random_state=None, subsample=1.0, tol=0.0001,\n",
              "                          validation_fraction=0.1, verbose=0, warm_start=False)"
            ]
          },
          "metadata": {
            "tags": []
          },
          "execution_count": 37
        }
      ]
    },
    {
      "cell_type": "code",
      "metadata": {
        "id": "Xs-4aSvyzo-j",
        "colab_type": "code",
        "colab": {
          "base_uri": "https://localhost:8080/",
          "height": 34
        },
        "outputId": "e83010b1-7b2a-4c90-977b-0a04067dacd4"
      },
      "source": [
        "y_pred = gbr.predict(x_test)\n",
        "r2_score(y_test, y_pred)\n"
      ],
      "execution_count": null,
      "outputs": [
        {
          "output_type": "execute_result",
          "data": {
            "text/plain": [
              "0.8331766484310745"
            ]
          },
          "metadata": {
            "tags": []
          },
          "execution_count": 38
        }
      ]
    },
    {
      "cell_type": "markdown",
      "metadata": {
        "id": "bg_Roz2hzwSd",
        "colab_type": "text"
      },
      "source": [
        "# **HIGHEST R2_score**"
      ]
    },
    {
      "cell_type": "markdown",
      "metadata": {
        "id": "4Z5qIkLcz_XU",
        "colab_type": "text"
      },
      "source": [
        "#**HYPERPARAMETER TUNING**"
      ]
    },
    {
      "cell_type": "code",
      "metadata": {
        "id": "_60UBXGxzsIc",
        "colab_type": "code",
        "colab": {}
      },
      "source": [
        "# hyperparameter tuning"
      ],
      "execution_count": null,
      "outputs": []
    },
    {
      "cell_type": "code",
      "metadata": {
        "id": "Jp8VRtTXz3JZ",
        "colab_type": "code",
        "colab": {}
      },
      "source": [
        "from sklearn.model_selection import GridSearchCV"
      ],
      "execution_count": null,
      "outputs": []
    },
    {
      "cell_type": "code",
      "metadata": {
        "id": "VpftsrL1z-RG",
        "colab_type": "code",
        "colab": {}
      },
      "source": [
        "x = x.drop(['flyash', 'coarseaggregate', 'fineaggregate'], axis=1)"
      ],
      "execution_count": null,
      "outputs": []
    },
    {
      "cell_type": "code",
      "metadata": {
        "id": "ucww5v790Tky",
        "colab_type": "code",
        "colab": {}
      },
      "source": [
        "# we are reducing these to save computing time"
      ],
      "execution_count": null,
      "outputs": []
    },
    {
      "cell_type": "code",
      "metadata": {
        "id": "7AiI--he0XRs",
        "colab_type": "code",
        "colab": {
          "base_uri": "https://localhost:8080/",
          "height": 204
        },
        "outputId": "703e0df8-508e-4b18-f560-70550643f0fc"
      },
      "source": [
        "x.head()"
      ],
      "execution_count": null,
      "outputs": [
        {
          "output_type": "execute_result",
          "data": {
            "text/html": [
              "<div>\n",
              "<style scoped>\n",
              "    .dataframe tbody tr th:only-of-type {\n",
              "        vertical-align: middle;\n",
              "    }\n",
              "\n",
              "    .dataframe tbody tr th {\n",
              "        vertical-align: top;\n",
              "    }\n",
              "\n",
              "    .dataframe thead th {\n",
              "        text-align: right;\n",
              "    }\n",
              "</style>\n",
              "<table border=\"1\" class=\"dataframe\">\n",
              "  <thead>\n",
              "    <tr style=\"text-align: right;\">\n",
              "      <th></th>\n",
              "      <th>cement</th>\n",
              "      <th>slag</th>\n",
              "      <th>water</th>\n",
              "      <th>superplasticizer</th>\n",
              "      <th>age</th>\n",
              "    </tr>\n",
              "  </thead>\n",
              "  <tbody>\n",
              "    <tr>\n",
              "      <th>0</th>\n",
              "      <td>540.0</td>\n",
              "      <td>0.0</td>\n",
              "      <td>162.0</td>\n",
              "      <td>2.5</td>\n",
              "      <td>28</td>\n",
              "    </tr>\n",
              "    <tr>\n",
              "      <th>1</th>\n",
              "      <td>540.0</td>\n",
              "      <td>0.0</td>\n",
              "      <td>162.0</td>\n",
              "      <td>2.5</td>\n",
              "      <td>28</td>\n",
              "    </tr>\n",
              "    <tr>\n",
              "      <th>2</th>\n",
              "      <td>332.5</td>\n",
              "      <td>142.5</td>\n",
              "      <td>228.0</td>\n",
              "      <td>0.0</td>\n",
              "      <td>270</td>\n",
              "    </tr>\n",
              "    <tr>\n",
              "      <th>3</th>\n",
              "      <td>332.5</td>\n",
              "      <td>142.5</td>\n",
              "      <td>228.0</td>\n",
              "      <td>0.0</td>\n",
              "      <td>365</td>\n",
              "    </tr>\n",
              "    <tr>\n",
              "      <th>4</th>\n",
              "      <td>198.6</td>\n",
              "      <td>132.4</td>\n",
              "      <td>192.0</td>\n",
              "      <td>0.0</td>\n",
              "      <td>360</td>\n",
              "    </tr>\n",
              "  </tbody>\n",
              "</table>\n",
              "</div>"
            ],
            "text/plain": [
              "   cement   slag  water  superplasticizer  age\n",
              "0   540.0    0.0  162.0               2.5   28\n",
              "1   540.0    0.0  162.0               2.5   28\n",
              "2   332.5  142.5  228.0               0.0  270\n",
              "3   332.5  142.5  228.0               0.0  365\n",
              "4   198.6  132.4  192.0               0.0  360"
            ]
          },
          "metadata": {
            "tags": []
          },
          "execution_count": 42
        }
      ]
    },
    {
      "cell_type": "code",
      "metadata": {
        "id": "7bt3v3Nm0Y7t",
        "colab_type": "code",
        "colab": {}
      },
      "source": [
        "from sklearn.model_selection import train_test_split\n",
        "x_train, x_test, y_train, y_test = train_test_split(x,y, test_size=0.2)"
      ],
      "execution_count": null,
      "outputs": []
    },
    {
      "cell_type": "code",
      "metadata": {
        "id": "gN3z_mfC0fvS",
        "colab_type": "code",
        "colab": {
          "base_uri": "https://localhost:8080/",
          "height": 170
        },
        "outputId": "492467b4-8ef8-4842-e7a7-3bba3a4a5b07"
      },
      "source": [
        "# GBR\n",
        "baseline = GradientBoostingRegressor(max_depth=3, n_estimators=50)\n",
        "baseline.fit(x_train, y_train)"
      ],
      "execution_count": null,
      "outputs": [
        {
          "output_type": "execute_result",
          "data": {
            "text/plain": [
              "GradientBoostingRegressor(alpha=0.9, ccp_alpha=0.0, criterion='friedman_mse',\n",
              "                          init=None, learning_rate=0.1, loss='ls', max_depth=3,\n",
              "                          max_features=None, max_leaf_nodes=None,\n",
              "                          min_impurity_decrease=0.0, min_impurity_split=None,\n",
              "                          min_samples_leaf=1, min_samples_split=2,\n",
              "                          min_weight_fraction_leaf=0.0, n_estimators=50,\n",
              "                          n_iter_no_change=None, presort='deprecated',\n",
              "                          random_state=None, subsample=1.0, tol=0.0001,\n",
              "                          validation_fraction=0.1, verbose=0, warm_start=False)"
            ]
          },
          "metadata": {
            "tags": []
          },
          "execution_count": 44
        }
      ]
    },
    {
      "cell_type": "code",
      "metadata": {
        "id": "S_ePTbir0s9g",
        "colab_type": "code",
        "colab": {
          "base_uri": "https://localhost:8080/",
          "height": 34
        },
        "outputId": "c2dbe091-2321-4848-8d64-eb27c1da73dc"
      },
      "source": [
        "y_pred = baseline.predict(x_test)\n",
        "r2_score(y_test, y_pred)"
      ],
      "execution_count": null,
      "outputs": [
        {
          "output_type": "execute_result",
          "data": {
            "text/plain": [
              "0.8806378421290638"
            ]
          },
          "metadata": {
            "tags": []
          },
          "execution_count": 45
        }
      ]
    },
    {
      "cell_type": "markdown",
      "metadata": {
        "id": "-CO7XzOX044t",
        "colab_type": "text"
      },
      "source": [
        "**NOTE: THE r2 score above**"
      ]
    },
    {
      "cell_type": "code",
      "metadata": {
        "id": "2kcAFLLN0tKH",
        "colab_type": "code",
        "colab": {
          "base_uri": "https://localhost:8080/",
          "height": 119
        },
        "outputId": "5b0d5b4d-687b-436c-935d-0731776d3440"
      },
      "source": [
        "important_features = pd.Series(baseline.feature_importances_, index=x.columns).\\\n",
        "sort_values(ascending=False)\n",
        "important_features"
      ],
      "execution_count": null,
      "outputs": [
        {
          "output_type": "execute_result",
          "data": {
            "text/plain": [
              "age                 0.386522\n",
              "cement              0.335692\n",
              "slag                0.106598\n",
              "water               0.092166\n",
              "superplasticizer    0.079022\n",
              "dtype: float64"
            ]
          },
          "metadata": {
            "tags": []
          },
          "execution_count": 46
        }
      ]
    },
    {
      "cell_type": "code",
      "metadata": {
        "id": "JK4J7hyb1koi",
        "colab_type": "code",
        "colab": {}
      },
      "source": [
        "gbr = GradientBoostingRegressor(max_depth=3)"
      ],
      "execution_count": null,
      "outputs": []
    },
    {
      "cell_type": "code",
      "metadata": {
        "id": "F9iyX3CZ1tvm",
        "colab_type": "code",
        "colab": {}
      },
      "source": [
        "parameters = {'n_estimators': [1, 5 ,10, 50, 100, 200, 300, 400, 500]} # the hyperparametr we want to tune\n",
        "gridsearch_reg = GridSearchCV(estimator=gbr, param_grid=parameters, cv=3) # 3 fold cross calidation, 2 to train , 1 to validate"
      ],
      "execution_count": null,
      "outputs": []
    },
    {
      "cell_type": "code",
      "metadata": {
        "id": "anSDujpe2WvJ",
        "colab_type": "code",
        "colab": {
          "base_uri": "https://localhost:8080/",
          "height": 425
        },
        "outputId": "78b26036-fd9f-491c-f50d-b26f43556fed"
      },
      "source": [
        "gridsearch_reg.fit(x_train, y_train)"
      ],
      "execution_count": null,
      "outputs": [
        {
          "output_type": "execute_result",
          "data": {
            "text/plain": [
              "GridSearchCV(cv=3, error_score=nan,\n",
              "             estimator=GradientBoostingRegressor(alpha=0.9, ccp_alpha=0.0,\n",
              "                                                 criterion='friedman_mse',\n",
              "                                                 init=None, learning_rate=0.1,\n",
              "                                                 loss='ls', max_depth=3,\n",
              "                                                 max_features=None,\n",
              "                                                 max_leaf_nodes=None,\n",
              "                                                 min_impurity_decrease=0.0,\n",
              "                                                 min_impurity_split=None,\n",
              "                                                 min_samples_leaf=1,\n",
              "                                                 min_samples_split=2,\n",
              "                                                 min_weight_fraction_leaf=0.0,\n",
              "                                                 n_estimators=100,\n",
              "                                                 n_iter_no_change=None,\n",
              "                                                 presort='deprecated',\n",
              "                                                 random_state=None,\n",
              "                                                 subsample=1.0, tol=0.0001,\n",
              "                                                 validation_fraction=0.1,\n",
              "                                                 verbose=0, warm_start=False),\n",
              "             iid='deprecated', n_jobs=None,\n",
              "             param_grid={'n_estimators': [1, 5, 10, 50, 100, 200, 300, 400,\n",
              "                                          500]},\n",
              "             pre_dispatch='2*n_jobs', refit=True, return_train_score=False,\n",
              "             scoring=None, verbose=0)"
            ]
          },
          "metadata": {
            "tags": []
          },
          "execution_count": 49
        }
      ]
    },
    {
      "cell_type": "code",
      "metadata": {
        "id": "xZQZ3h2o2Aet",
        "colab_type": "code",
        "colab": {
          "base_uri": "https://localhost:8080/",
          "height": 34
        },
        "outputId": "3c0d8dac-fc7d-4577-c89c-de1cf8cab648"
      },
      "source": [
        "gridsearch_reg.best_params_"
      ],
      "execution_count": null,
      "outputs": [
        {
          "output_type": "execute_result",
          "data": {
            "text/plain": [
              "{'n_estimators': 500}"
            ]
          },
          "metadata": {
            "tags": []
          },
          "execution_count": 50
        }
      ]
    },
    {
      "cell_type": "markdown",
      "metadata": {
        "id": "mIBd3UPE2oQ8",
        "colab_type": "text"
      },
      "source": [
        "**thus 500 is the bestparam for n_estimators**"
      ]
    },
    {
      "cell_type": "code",
      "metadata": {
        "id": "hw_TcsLh2SYL",
        "colab_type": "code",
        "colab": {}
      },
      "source": [
        "x_train, x_test, y_train, y_test = train_test_split(x,y, test_size=0.2) # reshuffle the data"
      ],
      "execution_count": null,
      "outputs": []
    },
    {
      "cell_type": "code",
      "metadata": {
        "id": "nCVf0IWU2vS7",
        "colab_type": "code",
        "colab": {
          "base_uri": "https://localhost:8080/",
          "height": 170
        },
        "outputId": "3791c035-f375-4cae-fbaa-76461269e9d5"
      },
      "source": [
        "gbr_best = GradientBoostingRegressor(max_depth=3,n_estimators=500)\n",
        "gbr_best.fit(x_train, y_train)"
      ],
      "execution_count": null,
      "outputs": [
        {
          "output_type": "execute_result",
          "data": {
            "text/plain": [
              "GradientBoostingRegressor(alpha=0.9, ccp_alpha=0.0, criterion='friedman_mse',\n",
              "                          init=None, learning_rate=0.1, loss='ls', max_depth=3,\n",
              "                          max_features=None, max_leaf_nodes=None,\n",
              "                          min_impurity_decrease=0.0, min_impurity_split=None,\n",
              "                          min_samples_leaf=1, min_samples_split=2,\n",
              "                          min_weight_fraction_leaf=0.0, n_estimators=500,\n",
              "                          n_iter_no_change=None, presort='deprecated',\n",
              "                          random_state=None, subsample=1.0, tol=0.0001,\n",
              "                          validation_fraction=0.1, verbose=0, warm_start=False)"
            ]
          },
          "metadata": {
            "tags": []
          },
          "execution_count": 52
        }
      ]
    },
    {
      "cell_type": "code",
      "metadata": {
        "id": "PX2XC97y25br",
        "colab_type": "code",
        "colab": {
          "base_uri": "https://localhost:8080/",
          "height": 34
        },
        "outputId": "f52ddfbc-6ac0-486f-e6df-01935a793e07"
      },
      "source": [
        "y_pred  = gbr_best.predict(x_test)\n",
        "r2_score(y_test, y_pred)"
      ],
      "execution_count": null,
      "outputs": [
        {
          "output_type": "execute_result",
          "data": {
            "text/plain": [
              "0.9377386134730828"
            ]
          },
          "metadata": {
            "tags": []
          },
          "execution_count": 53
        }
      ]
    },
    {
      "cell_type": "markdown",
      "metadata": {
        "id": "0aki66WS3HYe",
        "colab_type": "text"
      },
      "source": [
        "# **NOTE: HIGHEST ACCURACY IN WHOLE NOTEBOOK**"
      ]
    },
    {
      "cell_type": "code",
      "metadata": {
        "id": "9DXKrsQK3A0a",
        "colab_type": "code",
        "colab": {}
      },
      "source": [
        "gbr = GradientBoostingRegressor(max_depth=3, warm_start=True) # "
      ],
      "execution_count": null,
      "outputs": []
    },
    {
      "cell_type": "code",
      "metadata": {
        "id": "KtlBHfNo6dC6",
        "colab_type": "code",
        "colab": {}
      },
      "source": [
        "from sklearn.metrics import mean_squared_error"
      ],
      "execution_count": null,
      "outputs": []
    },
    {
      "cell_type": "markdown",
      "metadata": {
        "id": "iLB0K2we8GPF",
        "colab_type": "text"
      },
      "source": [
        "we cannot gain insights or verify with grid search cv, hence print all and use EARLY STOPPING"
      ]
    },
    {
      "cell_type": "code",
      "metadata": {
        "id": "qyo1UyiV5QVg",
        "colab_type": "code",
        "colab": {
          "base_uri": "https://localhost:8080/",
          "height": 1000
        },
        "outputId": "b44e4460-c726-495e-ffc4-53608f8ac51e"
      },
      "source": [
        "min_val_error = float('inf')\n",
        "error_increasing = 0\n",
        "\n",
        "for n_estimators in range (1, 1000):\n",
        "  gbr.n_estimators = n_estimators\n",
        "  gbr.fit(x_train, y_train)\n",
        "\n",
        "  y_pred = gbr.predict(x_test)\n",
        "  val_error = mean_squared_error(y_test, y_pred)\n",
        "\n",
        "  print('no of est:', gbr.n_estimators)\n",
        "  print('validation error:', val_error)\n",
        "\n",
        "  if val_error < min_val_error:\n",
        "    min_val_error = val_error\n",
        "    error_incresaing = 0\n",
        "  else:\n",
        "    error_increasing +=1\n",
        "    if error_increasing == 10: # this is early stopping\n",
        "      break\n",
        "  "
      ],
      "execution_count": null,
      "outputs": [
        {
          "output_type": "stream",
          "text": [
            "no of est: 1\n",
            "validation error: 244.24083925863783\n",
            "no of est: 2\n",
            "validation error: 217.54158517989617\n",
            "no of est: 3\n",
            "validation error: 194.19065845537736\n",
            "no of est: 4\n",
            "validation error: 175.17137624458087\n",
            "no of est: 5\n",
            "validation error: 158.22741152851606\n",
            "no of est: 6\n",
            "validation error: 145.72788519060532\n",
            "no of est: 7\n",
            "validation error: 134.26029559267303\n",
            "no of est: 8\n",
            "validation error: 123.69199599976515\n",
            "no of est: 9\n",
            "validation error: 115.31071280101457\n",
            "no of est: 10\n",
            "validation error: 107.05778349288607\n",
            "no of est: 11\n",
            "validation error: 101.22082961060069\n",
            "no of est: 12\n",
            "validation error: 94.84053967837791\n",
            "no of est: 13\n",
            "validation error: 89.74313184073321\n",
            "no of est: 14\n",
            "validation error: 84.61274009107122\n",
            "no of est: 15\n",
            "validation error: 79.83279642486048\n",
            "no of est: 16\n",
            "validation error: 75.43878396381712\n",
            "no of est: 17\n",
            "validation error: 72.374833207898\n",
            "no of est: 18\n",
            "validation error: 68.71491806230823\n",
            "no of est: 19\n",
            "validation error: 65.93441443092313\n",
            "no of est: 20\n",
            "validation error: 63.35699974810902\n",
            "no of est: 21\n",
            "validation error: 60.97774393843853\n",
            "no of est: 22\n",
            "validation error: 58.77329640151767\n",
            "no of est: 23\n",
            "validation error: 56.360845331597886\n",
            "no of est: 24\n",
            "validation error: 54.62277882929377\n",
            "no of est: 25\n",
            "validation error: 52.71699163706893\n",
            "no of est: 26\n",
            "validation error: 50.94396233469252\n",
            "no of est: 27\n",
            "validation error: 49.194498471803456\n",
            "no of est: 28\n",
            "validation error: 47.82490012506042\n",
            "no of est: 29\n",
            "validation error: 46.25706974411855\n",
            "no of est: 30\n",
            "validation error: 45.38022555472232\n",
            "no of est: 31\n",
            "validation error: 44.315543661166444\n",
            "no of est: 32\n",
            "validation error: 43.13888265706522\n",
            "no of est: 33\n",
            "validation error: 42.434376797586204\n",
            "no of est: 34\n",
            "validation error: 41.52718416302821\n",
            "no of est: 35\n",
            "validation error: 40.883928146538416\n",
            "no of est: 36\n",
            "validation error: 40.271160657105135\n",
            "no of est: 37\n",
            "validation error: 39.69772163411961\n",
            "no of est: 38\n",
            "validation error: 39.07973593484428\n",
            "no of est: 39\n",
            "validation error: 38.50545007203672\n",
            "no of est: 40\n",
            "validation error: 37.85551406254193\n",
            "no of est: 41\n",
            "validation error: 37.32838684693597\n",
            "no of est: 42\n",
            "validation error: 36.97968531856361\n",
            "no of est: 43\n",
            "validation error: 36.63238332216474\n",
            "no of est: 44\n",
            "validation error: 36.05318646765991\n",
            "no of est: 45\n",
            "validation error: 35.57064512028434\n",
            "no of est: 46\n",
            "validation error: 34.9689827591168\n",
            "no of est: 47\n",
            "validation error: 34.62100357351609\n",
            "no of est: 48\n",
            "validation error: 34.28348661109611\n",
            "no of est: 49\n",
            "validation error: 34.154712547329076\n",
            "no of est: 50\n",
            "validation error: 33.844016889114364\n",
            "no of est: 51\n",
            "validation error: 33.341851710969244\n",
            "no of est: 52\n",
            "validation error: 32.94154921056962\n",
            "no of est: 53\n",
            "validation error: 32.776017126890245\n",
            "no of est: 54\n",
            "validation error: 32.394349882920324\n",
            "no of est: 55\n",
            "validation error: 31.966328462302087\n",
            "no of est: 56\n",
            "validation error: 31.789235643987976\n",
            "no of est: 57\n",
            "validation error: 31.422600427289325\n",
            "no of est: 58\n",
            "validation error: 31.027963639816857\n",
            "no of est: 59\n",
            "validation error: 30.857024962923\n",
            "no of est: 60\n",
            "validation error: 30.55704890340368\n",
            "no of est: 61\n",
            "validation error: 30.49095678433126\n",
            "no of est: 62\n",
            "validation error: 30.32528940034721\n",
            "no of est: 63\n",
            "validation error: 30.25995680814445\n",
            "no of est: 64\n",
            "validation error: 30.08523308348726\n",
            "no of est: 65\n",
            "validation error: 29.78988118459765\n",
            "no of est: 66\n",
            "validation error: 29.467360093740275\n",
            "no of est: 67\n",
            "validation error: 29.35163971715474\n",
            "no of est: 68\n",
            "validation error: 29.35095308941847\n",
            "no of est: 69\n",
            "validation error: 29.179772648088566\n",
            "no of est: 70\n",
            "validation error: 28.98619856098171\n",
            "no of est: 71\n",
            "validation error: 28.91098958312567\n",
            "no of est: 72\n",
            "validation error: 28.872150434306807\n",
            "no of est: 73\n",
            "validation error: 28.727465738480728\n",
            "no of est: 74\n",
            "validation error: 28.56328300049455\n",
            "no of est: 75\n",
            "validation error: 28.473330978449756\n",
            "no of est: 76\n",
            "validation error: 28.28252280601761\n",
            "no of est: 77\n",
            "validation error: 28.069712262387814\n",
            "no of est: 78\n",
            "validation error: 27.991251762077372\n",
            "no of est: 79\n",
            "validation error: 27.955060203542587\n",
            "no of est: 80\n",
            "validation error: 27.806927467284183\n",
            "no of est: 81\n",
            "validation error: 27.656258352302387\n",
            "no of est: 82\n",
            "validation error: 27.551774840042384\n",
            "no of est: 83\n",
            "validation error: 27.36572263420671\n",
            "no of est: 84\n",
            "validation error: 27.28346234873115\n",
            "no of est: 85\n",
            "validation error: 27.12514595475936\n",
            "no of est: 86\n",
            "validation error: 27.094569427784627\n",
            "no of est: 87\n",
            "validation error: 27.034594632378905\n",
            "no of est: 88\n",
            "validation error: 26.813042220388194\n",
            "no of est: 89\n",
            "validation error: 26.689372524393185\n",
            "no of est: 90\n",
            "validation error: 26.632584089373665\n",
            "no of est: 91\n",
            "validation error: 26.53672045329046\n",
            "no of est: 92\n",
            "validation error: 26.435773947614237\n",
            "no of est: 93\n",
            "validation error: 26.3210942825887\n",
            "no of est: 94\n",
            "validation error: 26.214371513898495\n",
            "no of est: 95\n",
            "validation error: 26.284446726201043\n",
            "no of est: 96\n",
            "validation error: 26.28329125395885\n",
            "no of est: 97\n",
            "validation error: 26.120814197796296\n",
            "no of est: 98\n",
            "validation error: 26.080092100073657\n",
            "no of est: 99\n",
            "validation error: 25.970244747675192\n",
            "no of est: 100\n",
            "validation error: 25.890527938267446\n",
            "no of est: 101\n",
            "validation error: 25.778487586730684\n",
            "no of est: 102\n",
            "validation error: 25.839516472124412\n",
            "no of est: 103\n",
            "validation error: 25.827332067654726\n",
            "no of est: 104\n",
            "validation error: 25.72844198760959\n",
            "no of est: 105\n",
            "validation error: 25.72598073791046\n",
            "no of est: 106\n",
            "validation error: 25.583689763480468\n",
            "no of est: 107\n",
            "validation error: 25.47158404399268\n",
            "no of est: 108\n",
            "validation error: 25.54857795898189\n",
            "no of est: 109\n",
            "validation error: 25.469308110281418\n",
            "no of est: 110\n",
            "validation error: 25.357700499885592\n",
            "no of est: 111\n",
            "validation error: 25.38262670299165\n",
            "no of est: 112\n",
            "validation error: 25.34679110924968\n",
            "no of est: 113\n",
            "validation error: 25.22775809947074\n",
            "no of est: 114\n",
            "validation error: 25.084662783605108\n",
            "no of est: 115\n",
            "validation error: 24.91942466339013\n",
            "no of est: 116\n",
            "validation error: 24.85645186636195\n",
            "no of est: 117\n",
            "validation error: 24.918595475266926\n",
            "no of est: 118\n",
            "validation error: 24.73632172435856\n",
            "no of est: 119\n",
            "validation error: 24.728369228895442\n",
            "no of est: 120\n",
            "validation error: 24.668138104185513\n",
            "no of est: 121\n",
            "validation error: 24.517832586529437\n",
            "no of est: 122\n",
            "validation error: 24.41022613965015\n",
            "no of est: 123\n",
            "validation error: 24.31818419456664\n",
            "no of est: 124\n",
            "validation error: 24.299268950133772\n",
            "no of est: 125\n",
            "validation error: 24.264262727985095\n",
            "no of est: 126\n",
            "validation error: 24.1684109991986\n",
            "no of est: 127\n",
            "validation error: 24.19427660190404\n",
            "no of est: 128\n",
            "validation error: 24.15558232173626\n",
            "no of est: 129\n",
            "validation error: 24.117277575245105\n",
            "no of est: 130\n",
            "validation error: 24.09794818711753\n",
            "no of est: 131\n",
            "validation error: 24.00996948142505\n",
            "no of est: 132\n",
            "validation error: 23.96019362798442\n",
            "no of est: 133\n",
            "validation error: 23.9148946196088\n",
            "no of est: 134\n",
            "validation error: 23.85599580911122\n",
            "no of est: 135\n",
            "validation error: 23.82925582764714\n",
            "no of est: 136\n",
            "validation error: 23.798350788803656\n",
            "no of est: 137\n",
            "validation error: 23.734262742588303\n",
            "no of est: 138\n",
            "validation error: 23.72896007531026\n",
            "no of est: 139\n",
            "validation error: 23.639937406818895\n",
            "no of est: 140\n",
            "validation error: 23.663044439927837\n",
            "no of est: 141\n",
            "validation error: 23.542200970945835\n",
            "no of est: 142\n",
            "validation error: 23.531604610530866\n",
            "no of est: 143\n",
            "validation error: 23.427737970222218\n",
            "no of est: 144\n",
            "validation error: 23.43632365975045\n"
          ],
          "name": "stdout"
        }
      ]
    },
    {
      "cell_type": "code",
      "metadata": {
        "id": "O2ivNOJN6WTe",
        "colab_type": "code",
        "colab": {
          "base_uri": "https://localhost:8080/",
          "height": 34
        },
        "outputId": "fd981cb8-affa-4d8b-8ca1-6e571303d655"
      },
      "source": [
        "n_estimators"
      ],
      "execution_count": null,
      "outputs": [
        {
          "output_type": "execute_result",
          "data": {
            "text/plain": [
              "144"
            ]
          },
          "metadata": {
            "tags": []
          },
          "execution_count": 57
        }
      ]
    },
    {
      "cell_type": "code",
      "metadata": {
        "id": "EuAaThzj8U-S",
        "colab_type": "code",
        "colab": {}
      },
      "source": [
        "# retrain the model with n_estimator = 144\n",
        "# calculate the r2_score"
      ],
      "execution_count": null,
      "outputs": []
    },
    {
      "cell_type": "markdown",
      "metadata": {
        "id": "RYdUWO78aSeZ",
        "colab_type": "text"
      },
      "source": [
        "#**MODEL STACKING**"
      ]
    },
    {
      "cell_type": "code",
      "metadata": {
        "id": "6pGqI1LqZKO6",
        "colab_type": "code",
        "colab": {}
      },
      "source": [
        "# trainset, holdoutset, testset\n",
        "\n",
        "# STACK GENERALISATION: how should individual learners be combined to give final output? (voting, stacking)\n",
        "# train additional model\n",
        "# This model is trained on the predictions of the individual learner --> Metalearner or Blender model\n"
      ],
      "execution_count": null,
      "outputs": []
    },
    {
      "cell_type": "code",
      "metadata": {
        "id": "cLPiNDdybD3z",
        "colab_type": "code",
        "colab": {}
      },
      "source": [
        ""
      ],
      "execution_count": null,
      "outputs": []
    }
  ]
}
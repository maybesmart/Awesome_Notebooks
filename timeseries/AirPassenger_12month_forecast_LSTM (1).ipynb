{
  "nbformat": 4,
  "nbformat_minor": 0,
  "metadata": {
    "anaconda-cloud": {},
    "kernelspec": {
      "name": "python3",
      "display_name": "Python 3"
    },
    "language_info": {
      "codemirror_mode": {
        "name": "ipython",
        "version": 3
      },
      "file_extension": ".py",
      "mimetype": "text/x-python",
      "name": "python",
      "nbconvert_exporter": "python",
      "pygments_lexer": "ipython3",
      "version": "3.5.2"
    },
    "colab": {
      "name": "AirPassenger_12month_forecast_LSTM.ipynb",
      "provenance": [],
      "collapsed_sections": []
    }
  },
  "cells": [
    {
      "cell_type": "code",
      "metadata": {
        "id": "jgWqARsHqfPi",
        "colab_type": "code",
        "colab": {
          "base_uri": "https://localhost:8080/",
          "height": 122
        },
        "outputId": "d10a30bd-d180-4ec6-b417-105c603c90fa"
      },
      "source": [
        "from google.colab import drive\n",
        "drive.mount('/content/drive')"
      ],
      "execution_count": 1,
      "outputs": [
        {
          "output_type": "stream",
          "text": [
            "Go to this URL in a browser: https://accounts.google.com/o/oauth2/auth?client_id=947318989803-6bn6qk8qdgf4n4g3pfee6491hc0brc4i.apps.googleusercontent.com&redirect_uri=urn%3aietf%3awg%3aoauth%3a2.0%3aoob&response_type=code&scope=email%20https%3a%2f%2fwww.googleapis.com%2fauth%2fdocs.test%20https%3a%2f%2fwww.googleapis.com%2fauth%2fdrive%20https%3a%2f%2fwww.googleapis.com%2fauth%2fdrive.photos.readonly%20https%3a%2f%2fwww.googleapis.com%2fauth%2fpeopleapi.readonly\n",
            "\n",
            "Enter your authorization code:\n",
            "··········\n",
            "Mounted at /content/drive\n"
          ],
          "name": "stdout"
        }
      ]
    },
    {
      "cell_type": "code",
      "metadata": {
        "id": "uqu3iT6eqEqc",
        "colab_type": "code",
        "colab": {
          "base_uri": "https://localhost:8080/",
          "height": 34
        },
        "outputId": "8601b5f6-eb9b-492d-d465-54f9170891b7"
      },
      "source": [
        "import numpy as np\n",
        "import pandas as pd\n",
        "import matplotlib.pyplot as plt\n",
        "%matplotlib inline\n",
        "#from statsmodels.tools.eval_measures import rmse\n",
        "from sklearn.preprocessing import MinMaxScaler\n",
        "from keras.preprocessing.sequence import TimeseriesGenerator\n",
        "from keras.models import Sequential\n",
        "from keras.layers import Dense\n",
        "from keras.layers import LSTM\n",
        "from keras.layers import Dropout\n",
        "import warnings\n",
        "warnings.filterwarnings(\"ignore\")\n",
        "\n",
        "\n",
        "df = pd.read_csv(r'/content/drive/My Drive/AirPassengers.csv')"
      ],
      "execution_count": 2,
      "outputs": [
        {
          "output_type": "stream",
          "text": [
            "Using TensorFlow backend.\n"
          ],
          "name": "stderr"
        }
      ]
    },
    {
      "cell_type": "code",
      "metadata": {
        "id": "7MUdtyi0lLKT",
        "colab_type": "code",
        "colab": {
          "base_uri": "https://localhost:8080/",
          "height": 85
        },
        "outputId": "7381cf6c-4d2a-4fa5-e56d-a6974f2de6b0"
      },
      "source": [
        "#!pip install tslib"
      ],
      "execution_count": 3,
      "outputs": [
        {
          "output_type": "stream",
          "text": [
            "Collecting tslib\n",
            "  Downloading https://files.pythonhosted.org/packages/c6/19/8e6cfd61b15fa2dbf0090d459260864b6d42be771e9eb1489e57c3baa268/tslib-1.6-py2.py3-none-any.whl\n",
            "Installing collected packages: tslib\n",
            "Successfully installed tslib-1.6\n"
          ],
          "name": "stdout"
        }
      ]
    },
    {
      "cell_type": "code",
      "metadata": {
        "id": "Cy61V17bk2Nm",
        "colab_type": "code",
        "colab": {
          "base_uri": "https://localhost:8080/",
          "height": 34
        },
        "outputId": "532766a2-7713-450d-9b83-363455c38fd5"
      },
      "source": [
        " import tslib\n",
        " #!ts\n",
        " t = pd.Timestamp.now()\n",
        "print (t)\n",
        "#print (t.type())\n",
        "#t.date_time.map(lambda x: x.strftime('%Y-%m-%d'))"
      ],
      "execution_count": 4,
      "outputs": [
        {
          "output_type": "stream",
          "text": [
            "2020-06-18 14:28:22.199659\n"
          ],
          "name": "stdout"
        }
      ]
    },
    {
      "cell_type": "code",
      "metadata": {
        "id": "vx1fsEQ4qEqr",
        "colab_type": "code",
        "colab": {
          "base_uri": "https://localhost:8080/",
          "height": 255
        },
        "outputId": "29623c7f-02bb-454b-bdd6-1eb682a313c0"
      },
      "source": [
        "print (df)\n",
        "df.head()\n",
        "df.TIMESTAMP = pd.to_datetime(df.TIMESTAMP, dayfirst=True)\n",
        "#df['month'] = pd.DatetimeIndex(df['TIMESTAMP']).month\n",
        "#df \n",
        "#del df['month']\n",
        "df = df.set_index(\"TIMESTAMP\")"
      ],
      "execution_count": 3,
      "outputs": [
        {
          "output_type": "stream",
          "text": [
            "    TIMESTAMP  AirPassengers\n",
            "0     1949-01            112\n",
            "1     1949-02            118\n",
            "2     1949-03            132\n",
            "3     1949-04            129\n",
            "4     1949-05            121\n",
            "..        ...            ...\n",
            "139   1960-08            606\n",
            "140   1960-09            508\n",
            "141   1960-10            461\n",
            "142   1960-11            390\n",
            "143   1960-12            432\n",
            "\n",
            "[144 rows x 2 columns]\n"
          ],
          "name": "stdout"
        }
      ]
    },
    {
      "cell_type": "markdown",
      "metadata": {
        "id": "0ENc_Mty4oAd",
        "colab_type": "text"
      },
      "source": [
        "## We use df[:-12] since we want a 12 month forecast, you can choose it according to your need."
      ]
    },
    {
      "cell_type": "code",
      "metadata": {
        "id": "RyXwXFL6qErC",
        "colab_type": "code",
        "colab": {
          "base_uri": "https://localhost:8080/",
          "height": 272
        },
        "outputId": "5c70053a-65af-4a65-dff0-bd65c78e8485"
      },
      "source": [
        "train, test = df[:-12], df[-12:]\n",
        "print (train)"
      ],
      "execution_count": 4,
      "outputs": [
        {
          "output_type": "stream",
          "text": [
            "            AirPassengers\n",
            "TIMESTAMP                \n",
            "1949-01-01            112\n",
            "1949-02-01            118\n",
            "1949-03-01            132\n",
            "1949-04-01            129\n",
            "1949-05-01            121\n",
            "...                   ...\n",
            "1959-08-01            559\n",
            "1959-09-01            463\n",
            "1959-10-01            407\n",
            "1959-11-01            362\n",
            "1959-12-01            405\n",
            "\n",
            "[132 rows x 1 columns]\n"
          ],
          "name": "stdout"
        }
      ]
    },
    {
      "cell_type": "markdown",
      "metadata": {
        "id": "8BlGA_nd42w7",
        "colab_type": "text"
      },
      "source": [
        "##Always scale the data"
      ]
    },
    {
      "cell_type": "code",
      "metadata": {
        "id": "h7ad4Z8-qErQ",
        "colab_type": "code",
        "colab": {}
      },
      "source": [
        "scaler = MinMaxScaler()\n",
        "scaler.fit(train)\n",
        "train = scaler.transform(train)\n",
        "test = scaler.transform(test)"
      ],
      "execution_count": 5,
      "outputs": []
    },
    {
      "cell_type": "markdown",
      "metadata": {
        "id": "e1om6zMC47v4",
        "colab_type": "text"
      },
      "source": [
        "N_input -> number of months (12 in our case as above)\n",
        "\n",
        "n_features -> target variable"
      ]
    },
    {
      "cell_type": "code",
      "metadata": {
        "id": "JHToSOQ7qEra",
        "colab_type": "code",
        "colab": {}
      },
      "source": [
        "n_input = 12\n",
        "n_features = 1\n",
        "generator = TimeseriesGenerator(train, train, length=n_input, batch_size=6)"
      ],
      "execution_count": 6,
      "outputs": []
    },
    {
      "cell_type": "markdown",
      "metadata": {
        "id": "fkQfeWIf5tNu",
        "colab_type": "text"
      },
      "source": [
        "#LSTM"
      ]
    },
    {
      "cell_type": "code",
      "metadata": {
        "id": "hHkP_THzqErh",
        "colab_type": "code",
        "colab": {}
      },
      "source": [
        "model = Sequential()\n",
        "model.add(LSTM(200, activation='relu', input_shape=(n_input, n_features)))\n",
        "model.add(Dropout(0.15))\n",
        "model.add(Dense(1))\n",
        "model.compile(optimizer='adam', loss='mse')"
      ],
      "execution_count": 7,
      "outputs": []
    },
    {
      "cell_type": "code",
      "metadata": {
        "scrolled": true,
        "id": "im70kCeHqEro",
        "colab_type": "code",
        "colab": {
          "base_uri": "https://localhost:8080/",
          "height": 1000
        },
        "outputId": "a2194f3d-0629-4406-83d8-0b4dc64e82e6"
      },
      "source": [
        "model.fit_generator(generator,epochs=50)"
      ],
      "execution_count": 8,
      "outputs": [
        {
          "output_type": "stream",
          "text": [
            "Epoch 1/50\n",
            "20/20 [==============================] - 1s 45ms/step - loss: 0.0871\n",
            "Epoch 2/50\n",
            "20/20 [==============================] - 0s 17ms/step - loss: 0.0233\n",
            "Epoch 3/50\n",
            "20/20 [==============================] - 0s 19ms/step - loss: 0.0145\n",
            "Epoch 4/50\n",
            "20/20 [==============================] - 0s 19ms/step - loss: 0.0125\n",
            "Epoch 5/50\n",
            "20/20 [==============================] - 0s 20ms/step - loss: 0.0111\n",
            "Epoch 6/50\n",
            "20/20 [==============================] - 0s 18ms/step - loss: 0.0131\n",
            "Epoch 7/50\n",
            "20/20 [==============================] - 0s 18ms/step - loss: 0.0131\n",
            "Epoch 8/50\n",
            "20/20 [==============================] - 0s 19ms/step - loss: 0.0098\n",
            "Epoch 9/50\n",
            "20/20 [==============================] - 0s 17ms/step - loss: 0.0096\n",
            "Epoch 10/50\n",
            "20/20 [==============================] - 0s 17ms/step - loss: 0.0086\n",
            "Epoch 11/50\n",
            "20/20 [==============================] - 0s 18ms/step - loss: 0.0086\n",
            "Epoch 12/50\n",
            "20/20 [==============================] - 0s 17ms/step - loss: 0.0100\n",
            "Epoch 13/50\n",
            "20/20 [==============================] - 0s 18ms/step - loss: 0.0094\n",
            "Epoch 14/50\n",
            "20/20 [==============================] - 0s 18ms/step - loss: 0.0083\n",
            "Epoch 15/50\n",
            "20/20 [==============================] - 0s 17ms/step - loss: 0.0090\n",
            "Epoch 16/50\n",
            "20/20 [==============================] - 0s 17ms/step - loss: 0.0078\n",
            "Epoch 17/50\n",
            "20/20 [==============================] - 0s 18ms/step - loss: 0.0121\n",
            "Epoch 18/50\n",
            "20/20 [==============================] - 0s 17ms/step - loss: 0.0106\n",
            "Epoch 19/50\n",
            "20/20 [==============================] - 0s 17ms/step - loss: 0.0086\n",
            "Epoch 20/50\n",
            "20/20 [==============================] - 0s 17ms/step - loss: 0.0067\n",
            "Epoch 21/50\n",
            "20/20 [==============================] - 0s 17ms/step - loss: 0.0079\n",
            "Epoch 22/50\n",
            "20/20 [==============================] - 0s 17ms/step - loss: 0.0060\n",
            "Epoch 23/50\n",
            "20/20 [==============================] - 0s 18ms/step - loss: 0.0068\n",
            "Epoch 24/50\n",
            "20/20 [==============================] - 0s 18ms/step - loss: 0.0052\n",
            "Epoch 25/50\n",
            "20/20 [==============================] - 0s 17ms/step - loss: 0.0049\n",
            "Epoch 26/50\n",
            "20/20 [==============================] - 0s 17ms/step - loss: 0.0071\n",
            "Epoch 27/50\n",
            "20/20 [==============================] - 0s 17ms/step - loss: 0.0071\n",
            "Epoch 28/50\n",
            "20/20 [==============================] - 0s 17ms/step - loss: 0.0043\n",
            "Epoch 29/50\n",
            "20/20 [==============================] - 0s 17ms/step - loss: 0.0040\n",
            "Epoch 30/50\n",
            "20/20 [==============================] - 0s 17ms/step - loss: 0.0037\n",
            "Epoch 31/50\n",
            "20/20 [==============================] - 0s 17ms/step - loss: 0.0128\n",
            "Epoch 32/50\n",
            "20/20 [==============================] - 0s 17ms/step - loss: 0.0109\n",
            "Epoch 33/50\n",
            "20/20 [==============================] - 0s 17ms/step - loss: 0.0057\n",
            "Epoch 34/50\n",
            "20/20 [==============================] - 0s 18ms/step - loss: 0.0055\n",
            "Epoch 35/50\n",
            "20/20 [==============================] - 0s 17ms/step - loss: 0.0039\n",
            "Epoch 36/50\n",
            "20/20 [==============================] - 0s 17ms/step - loss: 0.0042\n",
            "Epoch 37/50\n",
            "20/20 [==============================] - 0s 17ms/step - loss: 0.0037\n",
            "Epoch 38/50\n",
            "20/20 [==============================] - 0s 18ms/step - loss: 0.0040\n",
            "Epoch 39/50\n",
            "20/20 [==============================] - 0s 17ms/step - loss: 0.0032\n",
            "Epoch 40/50\n",
            "20/20 [==============================] - 0s 18ms/step - loss: 0.0027\n",
            "Epoch 41/50\n",
            "20/20 [==============================] - 0s 17ms/step - loss: 0.0051\n",
            "Epoch 42/50\n",
            "20/20 [==============================] - 0s 17ms/step - loss: 0.0055\n",
            "Epoch 43/50\n",
            "20/20 [==============================] - 0s 17ms/step - loss: 0.0059\n",
            "Epoch 44/50\n",
            "20/20 [==============================] - 0s 17ms/step - loss: 0.0044\n",
            "Epoch 45/50\n",
            "20/20 [==============================] - 0s 17ms/step - loss: 0.0035\n",
            "Epoch 46/50\n",
            "20/20 [==============================] - 0s 17ms/step - loss: 0.0030\n",
            "Epoch 47/50\n",
            "20/20 [==============================] - 0s 19ms/step - loss: 0.0036\n",
            "Epoch 48/50\n",
            "20/20 [==============================] - 0s 17ms/step - loss: 0.0035\n",
            "Epoch 49/50\n",
            "20/20 [==============================] - 0s 17ms/step - loss: 0.0040\n",
            "Epoch 50/50\n",
            "20/20 [==============================] - 0s 18ms/step - loss: 0.0028\n"
          ],
          "name": "stdout"
        },
        {
          "output_type": "execute_result",
          "data": {
            "text/plain": [
              "<keras.callbacks.callbacks.History at 0x7f71b13b6e48>"
            ]
          },
          "metadata": {
            "tags": []
          },
          "execution_count": 8
        }
      ]
    },
    {
      "cell_type": "code",
      "metadata": {
        "id": "FIvXC-y7qErv",
        "colab_type": "code",
        "colab": {
          "base_uri": "https://localhost:8080/",
          "height": 221
        },
        "outputId": "6d52d835-321a-4093-d89c-3dcf9781f481"
      },
      "source": [
        "pred_list = []\n",
        "# print(train[-n_input:]) # 12 scaled numbers will be printed \n",
        "batch = train[-n_input:].reshape((1, n_input, n_features))   \n",
        "#print(batch) # same output reshaped\n",
        "\n",
        "for i in range(n_input):   \n",
        "    pred_list.append(model.predict(batch)[0]) \n",
        "    batch = np.append(batch[:,1:,:],[[pred_list[i]]],axis=1)\n",
        "\n",
        "print(batch) # after prediction of the 12 months"
      ],
      "execution_count": 11,
      "outputs": [
        {
          "output_type": "stream",
          "text": [
            "[[[0.59329385]\n",
            "  [0.62398636]\n",
            "  [0.67730951]\n",
            "  [0.69944966]\n",
            "  [0.81802708]\n",
            "  [0.96282744]\n",
            "  [1.08895719]\n",
            "  [1.01493871]\n",
            "  [0.82329202]\n",
            "  [0.69742519]\n",
            "  [0.67317516]\n",
            "  [0.67809176]]]\n"
          ],
          "name": "stdout"
        }
      ]
    },
    {
      "cell_type": "code",
      "metadata": {
        "id": "dMpqZ_44qEr6",
        "colab_type": "code",
        "colab": {
          "base_uri": "https://localhost:8080/",
          "height": 272
        },
        "outputId": "9300a0ac-e80b-4bb8-cab3-8d830fe95f9d"
      },
      "source": [
        "df_predict = pd.DataFrame(scaler.inverse_transform(pred_list),\n",
        "                          index=df[-n_input:].index, columns=['Prediction'])\n",
        "\n",
        "df_test = pd.concat([df,df_predict], axis=1)\n",
        "print(df_test) # only for 12"
      ],
      "execution_count": 13,
      "outputs": [
        {
          "output_type": "stream",
          "text": [
            "            AirPassengers  Prediction\n",
            "TIMESTAMP                            \n",
            "1949-01-01            112         NaN\n",
            "1949-02-01            118         NaN\n",
            "1949-03-01            132         NaN\n",
            "1949-04-01            129         NaN\n",
            "1949-05-01            121         NaN\n",
            "...                   ...         ...\n",
            "1960-08-01            606  565.797114\n",
            "1960-09-01            508  478.597868\n",
            "1960-10-01            461  421.328460\n",
            "1960-11-01            390  410.294696\n",
            "1960-12-01            432  412.531753\n",
            "\n",
            "[144 rows x 2 columns]\n"
          ],
          "name": "stdout"
        }
      ]
    },
    {
      "cell_type": "code",
      "metadata": {
        "id": "fUVCJH_2qEsM",
        "colab_type": "code",
        "colab": {
          "base_uri": "https://localhost:8080/",
          "height": 337
        },
        "outputId": "074023d1-899a-402d-c336-23a78a1c75cd"
      },
      "source": [
        "plt.figure(figsize=(20, 5))\n",
        "plt.plot(df_test.index, df_test['AirPassengers'])\n",
        "plt.plot(df_test.index, df_test['Prediction'], color='r')\n",
        "plt.legend(loc='best', fontsize='xx-large')\n",
        "plt.xticks(fontsize=10)\n",
        "plt.yticks(fontsize=16)\n",
        "plt.show()"
      ],
      "execution_count": 14,
      "outputs": [
        {
          "output_type": "stream",
          "text": [
            "No handles with labels found to put in legend.\n"
          ],
          "name": "stderr"
        },
        {
          "output_type": "display_data",
          "data": {
            "image/png": "[encoded data removed]",
            "text/plain": [
              "<Figure size 1440x360 with 1 Axes>"
            ]
          },
          "metadata": {
            "tags": [],
            "needs_background": "light"
          }
        }
      ]
    },
    {
      "cell_type": "code",
      "metadata": {
        "id": "-_LNiJem22Vz",
        "colab_type": "code",
        "colab": {}
      },
      "source": [
        ""
      ],
      "execution_count": 14,
      "outputs": []
    },
    {
      "cell_type": "markdown",
      "metadata": {
        "id": "a1qeNRgr9dgI",
        "colab_type": "text"
      },
      "source": [
        "# THIS time predict next 12 months "
      ]
    },
    {
      "cell_type": "code",
      "metadata": {
        "id": "QvowDHXPqEsZ",
        "colab_type": "code",
        "colab": {}
      },
      "source": [
        "train = df"
      ],
      "execution_count": 15,
      "outputs": []
    },
    {
      "cell_type": "code",
      "metadata": {
        "id": "wxfw9CEMqEse",
        "colab_type": "code",
        "colab": {
          "base_uri": "https://localhost:8080/",
          "height": 34
        },
        "outputId": "cf6080aa-f17f-4dd0-fa2f-76e6a9c41d3b"
      },
      "source": [
        "scaler.fit(train)\n",
        "train = scaler.transform(train)\n",
        "train.shape"
      ],
      "execution_count": 17,
      "outputs": [
        {
          "output_type": "execute_result",
          "data": {
            "text/plain": [
              "(144, 1)"
            ]
          },
          "metadata": {
            "tags": []
          },
          "execution_count": 17
        }
      ]
    },
    {
      "cell_type": "code",
      "metadata": {
        "id": "kaKQitNGqEsl",
        "colab_type": "code",
        "colab": {}
      },
      "source": [
        "n_input = 12\n",
        "n_features = 1\n",
        "generator = TimeseriesGenerator(train, train, length=n_input, batch_size=6)"
      ],
      "execution_count": 18,
      "outputs": []
    },
    {
      "cell_type": "code",
      "metadata": {
        "id": "8imepCiPqEsy",
        "colab_type": "code",
        "colab": {
          "base_uri": "https://localhost:8080/",
          "height": 1000
        },
        "outputId": "55033682-d18d-479f-b968-852d10ff9fc8"
      },
      "source": [
        "model.fit_generator(generator,epochs=90)"
      ],
      "execution_count": 19,
      "outputs": [
        {
          "output_type": "stream",
          "text": [
            "Epoch 1/90\n",
            "22/22 [==============================] - 0s 20ms/step - loss: 0.0024\n",
            "Epoch 2/90\n",
            "22/22 [==============================] - 0s 20ms/step - loss: 0.0030\n",
            "Epoch 3/90\n",
            "22/22 [==============================] - 0s 18ms/step - loss: 0.0021\n",
            "Epoch 4/90\n",
            "22/22 [==============================] - 0s 18ms/step - loss: 0.0021\n",
            "Epoch 5/90\n",
            "22/22 [==============================] - 0s 17ms/step - loss: 0.0024\n",
            "Epoch 6/90\n",
            "22/22 [==============================] - 0s 17ms/step - loss: 0.0019\n",
            "Epoch 7/90\n",
            "22/22 [==============================] - 0s 18ms/step - loss: 0.0024\n",
            "Epoch 8/90\n",
            "22/22 [==============================] - 0s 17ms/step - loss: 0.0021\n",
            "Epoch 9/90\n",
            "22/22 [==============================] - 0s 19ms/step - loss: 0.0027\n",
            "Epoch 10/90\n",
            "22/22 [==============================] - 0s 18ms/step - loss: 0.0026\n",
            "Epoch 11/90\n",
            "22/22 [==============================] - 0s 19ms/step - loss: 0.0030\n",
            "Epoch 12/90\n",
            "22/22 [==============================] - 0s 18ms/step - loss: 0.0030\n",
            "Epoch 13/90\n",
            "22/22 [==============================] - 0s 18ms/step - loss: 0.0021\n",
            "Epoch 14/90\n",
            "22/22 [==============================] - 0s 19ms/step - loss: 0.0021\n",
            "Epoch 15/90\n",
            "22/22 [==============================] - 0s 18ms/step - loss: 0.0023\n",
            "Epoch 16/90\n",
            "22/22 [==============================] - 0s 19ms/step - loss: 0.0064\n",
            "Epoch 17/90\n",
            "22/22 [==============================] - 0s 19ms/step - loss: 0.0032\n",
            "Epoch 18/90\n",
            "22/22 [==============================] - 0s 17ms/step - loss: 0.0030\n",
            "Epoch 19/90\n",
            "22/22 [==============================] - 0s 18ms/step - loss: 0.0023\n",
            "Epoch 20/90\n",
            "22/22 [==============================] - 0s 17ms/step - loss: 0.0019\n",
            "Epoch 21/90\n",
            "22/22 [==============================] - 0s 20ms/step - loss: 0.0018\n",
            "Epoch 22/90\n",
            "22/22 [==============================] - 0s 19ms/step - loss: 0.0019\n",
            "Epoch 23/90\n",
            "22/22 [==============================] - 0s 17ms/step - loss: 0.0055\n",
            "Epoch 24/90\n",
            "22/22 [==============================] - 0s 17ms/step - loss: 0.0031\n",
            "Epoch 25/90\n",
            "22/22 [==============================] - 0s 19ms/step - loss: 0.0053\n",
            "Epoch 26/90\n",
            "22/22 [==============================] - 0s 20ms/step - loss: 0.0025\n",
            "Epoch 27/90\n",
            "22/22 [==============================] - 0s 18ms/step - loss: 0.0026\n",
            "Epoch 28/90\n",
            "22/22 [==============================] - 0s 19ms/step - loss: 0.0030\n",
            "Epoch 29/90\n",
            "22/22 [==============================] - 0s 18ms/step - loss: 0.0019\n",
            "Epoch 30/90\n",
            "22/22 [==============================] - 0s 17ms/step - loss: 0.0020\n",
            "Epoch 31/90\n",
            "22/22 [==============================] - 0s 18ms/step - loss: 0.0024\n",
            "Epoch 32/90\n",
            "22/22 [==============================] - 0s 18ms/step - loss: 0.0017\n",
            "Epoch 33/90\n",
            "22/22 [==============================] - 0s 18ms/step - loss: 0.0019\n",
            "Epoch 34/90\n",
            "22/22 [==============================] - 0s 17ms/step - loss: 0.0032\n",
            "Epoch 35/90\n",
            "22/22 [==============================] - 0s 20ms/step - loss: 0.0026\n",
            "Epoch 36/90\n",
            "22/22 [==============================] - 0s 20ms/step - loss: 0.0022\n",
            "Epoch 37/90\n",
            "22/22 [==============================] - 0s 19ms/step - loss: 0.0016\n",
            "Epoch 38/90\n",
            "22/22 [==============================] - 0s 21ms/step - loss: 0.0022\n",
            "Epoch 39/90\n",
            "22/22 [==============================] - 0s 18ms/step - loss: 0.0017\n",
            "Epoch 40/90\n",
            "22/22 [==============================] - 0s 19ms/step - loss: 0.0018\n",
            "Epoch 41/90\n",
            "22/22 [==============================] - 0s 19ms/step - loss: 0.0038\n",
            "Epoch 42/90\n",
            "22/22 [==============================] - 0s 18ms/step - loss: 0.0042\n",
            "Epoch 43/90\n",
            "22/22 [==============================] - 0s 18ms/step - loss: 0.0020\n",
            "Epoch 44/90\n",
            "22/22 [==============================] - 0s 18ms/step - loss: 0.0017\n",
            "Epoch 45/90\n",
            "22/22 [==============================] - 0s 18ms/step - loss: 0.0024\n",
            "Epoch 46/90\n",
            "22/22 [==============================] - 0s 18ms/step - loss: 0.0023\n",
            "Epoch 47/90\n",
            "22/22 [==============================] - 0s 18ms/step - loss: 0.0024\n",
            "Epoch 48/90\n",
            "22/22 [==============================] - 0s 20ms/step - loss: 0.0022\n",
            "Epoch 49/90\n",
            "22/22 [==============================] - 0s 18ms/step - loss: 0.0021\n",
            "Epoch 50/90\n",
            "22/22 [==============================] - 0s 20ms/step - loss: 0.0031\n",
            "Epoch 51/90\n",
            "22/22 [==============================] - 0s 18ms/step - loss: 0.0060\n",
            "Epoch 52/90\n",
            "22/22 [==============================] - 0s 19ms/step - loss: 0.0046\n",
            "Epoch 53/90\n",
            "22/22 [==============================] - 0s 20ms/step - loss: 0.0021\n",
            "Epoch 54/90\n",
            "22/22 [==============================] - 0s 20ms/step - loss: 0.0021\n",
            "Epoch 55/90\n",
            "22/22 [==============================] - 0s 19ms/step - loss: 0.0017\n",
            "Epoch 56/90\n",
            "22/22 [==============================] - 0s 18ms/step - loss: 0.0024\n",
            "Epoch 57/90\n",
            "22/22 [==============================] - 0s 20ms/step - loss: 0.0024\n",
            "Epoch 58/90\n",
            "22/22 [==============================] - 0s 19ms/step - loss: 0.0019\n",
            "Epoch 59/90\n",
            "22/22 [==============================] - 0s 18ms/step - loss: 0.0023\n",
            "Epoch 60/90\n",
            "22/22 [==============================] - 0s 18ms/step - loss: 0.0018\n",
            "Epoch 61/90\n",
            "22/22 [==============================] - 0s 19ms/step - loss: 0.0020\n",
            "Epoch 62/90\n",
            "22/22 [==============================] - 0s 19ms/step - loss: 0.0032\n",
            "Epoch 63/90\n",
            "22/22 [==============================] - 0s 18ms/step - loss: 0.0019\n",
            "Epoch 64/90\n",
            "22/22 [==============================] - 0s 17ms/step - loss: 0.0038\n",
            "Epoch 65/90\n",
            "22/22 [==============================] - 0s 18ms/step - loss: 0.0024\n",
            "Epoch 66/90\n",
            "22/22 [==============================] - 0s 17ms/step - loss: 0.0024\n",
            "Epoch 67/90\n",
            "22/22 [==============================] - 0s 17ms/step - loss: 0.0027\n",
            "Epoch 68/90\n",
            "22/22 [==============================] - 0s 18ms/step - loss: 0.0028\n",
            "Epoch 69/90\n",
            "22/22 [==============================] - 0s 17ms/step - loss: 0.0027\n",
            "Epoch 70/90\n",
            "22/22 [==============================] - 0s 19ms/step - loss: 0.0020\n",
            "Epoch 71/90\n",
            "22/22 [==============================] - 0s 17ms/step - loss: 0.0017\n",
            "Epoch 72/90\n",
            "22/22 [==============================] - 0s 17ms/step - loss: 0.0023\n",
            "Epoch 73/90\n",
            "22/22 [==============================] - 0s 19ms/step - loss: 0.0019\n",
            "Epoch 74/90\n",
            "22/22 [==============================] - 0s 19ms/step - loss: 0.0016\n",
            "Epoch 75/90\n",
            "22/22 [==============================] - 0s 19ms/step - loss: 0.0021\n",
            "Epoch 76/90\n",
            "22/22 [==============================] - 0s 19ms/step - loss: 0.0020\n",
            "Epoch 77/90\n",
            "22/22 [==============================] - 0s 20ms/step - loss: 0.0013\n",
            "Epoch 78/90\n",
            "22/22 [==============================] - 0s 17ms/step - loss: 0.0019\n",
            "Epoch 79/90\n",
            "22/22 [==============================] - 0s 17ms/step - loss: 0.0021\n",
            "Epoch 80/90\n",
            "22/22 [==============================] - 0s 17ms/step - loss: 0.0021\n",
            "Epoch 81/90\n",
            "22/22 [==============================] - 0s 16ms/step - loss: 0.0018\n",
            "Epoch 82/90\n",
            "22/22 [==============================] - 0s 17ms/step - loss: 0.0016\n",
            "Epoch 83/90\n",
            "22/22 [==============================] - 0s 18ms/step - loss: 0.0016\n",
            "Epoch 84/90\n",
            "22/22 [==============================] - 0s 17ms/step - loss: 0.0015\n",
            "Epoch 85/90\n",
            "22/22 [==============================] - 0s 18ms/step - loss: 0.0014\n",
            "Epoch 86/90\n",
            "22/22 [==============================] - 0s 17ms/step - loss: 0.0017\n",
            "Epoch 87/90\n",
            "22/22 [==============================] - 0s 16ms/step - loss: 0.0018\n",
            "Epoch 88/90\n",
            "22/22 [==============================] - 0s 17ms/step - loss: 0.0020\n",
            "Epoch 89/90\n",
            "22/22 [==============================] - 0s 19ms/step - loss: 0.0034\n",
            "Epoch 90/90\n",
            "22/22 [==============================] - 0s 18ms/step - loss: 0.0017\n"
          ],
          "name": "stdout"
        },
        {
          "output_type": "execute_result",
          "data": {
            "text/plain": [
              "<keras.callbacks.callbacks.History at 0x7f71b11bca58>"
            ]
          },
          "metadata": {
            "tags": []
          },
          "execution_count": 19
        }
      ]
    },
    {
      "cell_type": "code",
      "metadata": {
        "id": "hFITDXWvqEs8",
        "colab_type": "code",
        "colab": {}
      },
      "source": [
        "pred_list = []\n",
        "\n",
        "batch = train[-n_input:].reshape((1, n_input, n_features))\n",
        "\n",
        "for i in range(n_input):   \n",
        "    pred_list.append(model.predict(batch)[0]) \n",
        "    batch = np.append(batch[:,1:,:],[[pred_list[i]]],axis=1)"
      ],
      "execution_count": 20,
      "outputs": []
    },
    {
      "cell_type": "markdown",
      "metadata": {
        "id": "XP8Xh-RP9xZe",
        "colab_type": "text"
      },
      "source": [
        "# Create extra dates for which the prediction is to be done"
      ]
    },
    {
      "cell_type": "code",
      "metadata": {
        "id": "w3lhtzR6qEtD",
        "colab_type": "code",
        "colab": {
          "base_uri": "https://localhost:8080/",
          "height": 204
        },
        "outputId": "db12549e-bd5b-46d0-dd70-bcad4a2a9af7"
      },
      "source": [
        "from pandas.tseries.offsets import DateOffset\n",
        "#df['month'] = pd.DatetimeIndex(df['TIMESTAMP']).month\n",
        "add_dates = [ df.index[-1]+ DateOffset(months=x) for x in range(0,13) ]\n",
        "future_dates = pd.DataFrame(index=add_dates[1:],columns=df.columns)\n",
        "future_dates.head()"
      ],
      "execution_count": 22,
      "outputs": [
        {
          "output_type": "execute_result",
          "data": {
            "text/html": [
              "<div>\n",
              "<style scoped>\n",
              "    .dataframe tbody tr th:only-of-type {\n",
              "        vertical-align: middle;\n",
              "    }\n",
              "\n",
              "    .dataframe tbody tr th {\n",
              "        vertical-align: top;\n",
              "    }\n",
              "\n",
              "    .dataframe thead th {\n",
              "        text-align: right;\n",
              "    }\n",
              "</style>\n",
              "<table border=\"1\" class=\"dataframe\">\n",
              "  <thead>\n",
              "    <tr style=\"text-align: right;\">\n",
              "      <th></th>\n",
              "      <th>AirPassengers</th>\n",
              "    </tr>\n",
              "  </thead>\n",
              "  <tbody>\n",
              "    <tr>\n",
              "      <th>1961-01-01</th>\n",
              "      <td>NaN</td>\n",
              "    </tr>\n",
              "    <tr>\n",
              "      <th>1961-02-01</th>\n",
              "      <td>NaN</td>\n",
              "    </tr>\n",
              "    <tr>\n",
              "      <th>1961-03-01</th>\n",
              "      <td>NaN</td>\n",
              "    </tr>\n",
              "    <tr>\n",
              "      <th>1961-04-01</th>\n",
              "      <td>NaN</td>\n",
              "    </tr>\n",
              "    <tr>\n",
              "      <th>1961-05-01</th>\n",
              "      <td>NaN</td>\n",
              "    </tr>\n",
              "  </tbody>\n",
              "</table>\n",
              "</div>"
            ],
            "text/plain": [
              "           AirPassengers\n",
              "1961-01-01           NaN\n",
              "1961-02-01           NaN\n",
              "1961-03-01           NaN\n",
              "1961-04-01           NaN\n",
              "1961-05-01           NaN"
            ]
          },
          "metadata": {
            "tags": []
          },
          "execution_count": 22
        }
      ]
    },
    {
      "cell_type": "code",
      "metadata": {
        "id": "QWyYKMyaqEtI",
        "colab_type": "code",
        "colab": {
          "base_uri": "https://localhost:8080/",
          "height": 204
        },
        "outputId": "86eaa802-b3ba-4b3e-9600-4f15a8a7c8b1"
      },
      "source": [
        "df_predict = pd.DataFrame(scaler.inverse_transform(pred_list),\n",
        "                          index=future_dates[-n_input:].index, columns=['Prediction'])\n",
        "df_predict.head()\n",
        "df_proj = pd.concat([df,df_predict], axis=1)\n",
        "df_proj.head()"
      ],
      "execution_count": 23,
      "outputs": [
        {
          "output_type": "execute_result",
          "data": {
            "text/html": [
              "<div>\n",
              "<style scoped>\n",
              "    .dataframe tbody tr th:only-of-type {\n",
              "        vertical-align: middle;\n",
              "    }\n",
              "\n",
              "    .dataframe tbody tr th {\n",
              "        vertical-align: top;\n",
              "    }\n",
              "\n",
              "    .dataframe thead th {\n",
              "        text-align: right;\n",
              "    }\n",
              "</style>\n",
              "<table border=\"1\" class=\"dataframe\">\n",
              "  <thead>\n",
              "    <tr style=\"text-align: right;\">\n",
              "      <th></th>\n",
              "      <th>AirPassengers</th>\n",
              "      <th>Prediction</th>\n",
              "    </tr>\n",
              "  </thead>\n",
              "  <tbody>\n",
              "    <tr>\n",
              "      <th>1949-01-01</th>\n",
              "      <td>112.0</td>\n",
              "      <td>NaN</td>\n",
              "    </tr>\n",
              "    <tr>\n",
              "      <th>1949-02-01</th>\n",
              "      <td>118.0</td>\n",
              "      <td>NaN</td>\n",
              "    </tr>\n",
              "    <tr>\n",
              "      <th>1949-03-01</th>\n",
              "      <td>132.0</td>\n",
              "      <td>NaN</td>\n",
              "    </tr>\n",
              "    <tr>\n",
              "      <th>1949-04-01</th>\n",
              "      <td>129.0</td>\n",
              "      <td>NaN</td>\n",
              "    </tr>\n",
              "    <tr>\n",
              "      <th>1949-05-01</th>\n",
              "      <td>121.0</td>\n",
              "      <td>NaN</td>\n",
              "    </tr>\n",
              "  </tbody>\n",
              "</table>\n",
              "</div>"
            ],
            "text/plain": [
              "            AirPassengers  Prediction\n",
              "1949-01-01          112.0         NaN\n",
              "1949-02-01          118.0         NaN\n",
              "1949-03-01          132.0         NaN\n",
              "1949-04-01          129.0         NaN\n",
              "1949-05-01          121.0         NaN"
            ]
          },
          "metadata": {
            "tags": []
          },
          "execution_count": 23
        }
      ]
    },
    {
      "cell_type": "code",
      "metadata": {
        "id": "G92yid2KqEtP",
        "colab_type": "code",
        "colab": {
          "base_uri": "https://localhost:8080/",
          "height": 345
        },
        "outputId": "3a7dadd6-b2a2-4fd7-ed74-166325e4d98f"
      },
      "source": [
        "plt.figure(figsize=(20, 5))\n",
        "plt.plot(df_proj.index, df_proj['AirPassengers'])\n",
        "plt.plot(df_proj.index, df_proj['Prediction'], color='r')\n",
        "plt.legend(loc='best', fontsize='xx-large')\n",
        "plt.xticks(fontsize=18)\n",
        "plt.yticks(fontsize=16)\n",
        "plt.show()"
      ],
      "execution_count": null,
      "outputs": [
        {
          "output_type": "stream",
          "text": [
            "No handles with labels found to put in legend.\n"
          ],
          "name": "stderr"
        },
        {
          "output_type": "display_data",
          "data": {
            "image/png": "[encoded data removed]",
            "text/plain": [
              "<Figure size 1440x360 with 1 Axes>"
            ]
          },
          "metadata": {
            "tags": []
          }
        }
      ]
    },
    {
      "cell_type": "code",
      "metadata": {
        "id": "3V2Z62a6px0v",
        "colab_type": "code",
        "colab": {}
      },
      "source": [
        ""
      ],
      "execution_count": null,
      "outputs": []
    }
  ]
}
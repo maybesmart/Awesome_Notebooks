{
  "nbformat": 4,
  "nbformat_minor": 0,
  "metadata": {
    "colab": {
      "name": "colab_github.ipynb",
      "provenance": [],
      "collapsed_sections": []
    },
    "kernelspec": {
      "name": "python3",
      "display_name": "Python 3"
    }
  },
  "cells": [
    {
      "cell_type": "markdown",
      "metadata": {
        "id": "-SDWhpf4vDFQ",
        "colab_type": "text"
      },
      "source": [
        "## Copy Paste the below code and paste it in a new markdown cell"
      ]
    },
    {
      "cell_type": "code",
      "metadata": {
        "id": "2pj-5jUR82RI",
        "colab_type": "code",
        "colab": {
          "base_uri": "https://localhost:8080/",
          "height": 149
        },
        "outputId": "9bfa4eb0-a502-4993-971b-2739d8a3818e"
      },
      "source": [
        "[![Open In Colab](https://colab.research.google.com/assets/colab-badge.svg)](https://colab.research.google.com/github/amrrs/youtube-r-snippets/blob/master/temporarily_deploy_ML_webapp_with_Google_Colab_and_ngrok.ipynb)"
      ],
      "execution_count": null,
      "outputs": [
        {
          "output_type": "error",
          "ename": "SyntaxError",
          "evalue": "ignored",
          "traceback": [
            "\u001b[0;36m  File \u001b[0;32m\"<ipython-input-2-c4ec0f9d24fd>\"\u001b[0;36m, line \u001b[0;32m1\u001b[0m\n\u001b[0;31m    [![Open In Colab](https://colab.research.google.com/assets/colab-badge.svg)](https://colab.research.google.com/github/amrrs/youtube-r-snippets/blob/master/temporarily_deploy_ML_webapp_with_Google_Colab_and_ngrok.ipynb)\u001b[0m\n\u001b[0m     ^\u001b[0m\n\u001b[0;31mSyntaxError\u001b[0m\u001b[0;31m:\u001b[0m invalid syntax\n"
          ]
        }
      ]
    },
    {
      "cell_type": "markdown",
      "metadata": {
        "id": "o5Ar0X8mvPaz",
        "colab_type": "text"
      },
      "source": [
        "Replace the link of the github file i.e (/github/ the file location/file name.ipynb)"
      ]
    },
    {
      "cell_type": "markdown",
      "metadata": {
        "id": "t3oDn7rtvizr",
        "colab_type": "text"
      },
      "source": [
        "Just add https://colab.research.google.com/  and then add the /github/ the file location/file name.ipynb"
      ]
    },
    {
      "cell_type": "markdown",
      "metadata": {
        "id": "oCFJfJ48wHT-",
        "colab_type": "text"
      },
      "source": [
        "You will see a badge like icon below, upon clicking it will load the notebook in colab"
      ]
    },
    {
      "cell_type": "markdown",
      "metadata": {
        "id": "BXxRjKO3_hX0",
        "colab_type": "text"
      },
      "source": [
        "[![Open In Colab](https://colab.research.google.com/assets/colab-badge.svg)](https://colab.research.google.com/github/amrrs/youtube-r-snippets/blob/master/temporarily_deploy_ML_webapp_with_Google_Colab_and_ngrok.ipynb)\n",
        "\n"
      ]
    }
  ]
}
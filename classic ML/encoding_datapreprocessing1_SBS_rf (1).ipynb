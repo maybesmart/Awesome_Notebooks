{
  "nbformat": 4,
  "nbformat_minor": 0,
  "metadata": {
    "colab": {
      "name": "encoding_datapreprocessing1_SBS_rf.ipynb",
      "provenance": [],
      "collapsed_sections": []
    },
    "kernelspec": {
      "name": "python3",
      "display_name": "Python 3"
    }
  },
  "cells": [
    {
      "cell_type": "markdown",
      "metadata": {
        "id": "YPrGmWDYAiJd",
        "colab_type": "text"
      },
      "source": [
        "https://github.com/ankushdata/Data-Preprocessing-in-Python-\n",
        "additional resource: go to the dates in the above rep and understand"
      ]
    },
    {
      "cell_type": "code",
      "metadata": {
        "id": "Fa-SwtdDsWbx",
        "colab_type": "code",
        "colab": {}
      },
      "source": [
        "import numpy as np\n",
        "import pandas as pd\n",
        "from io import StringIO"
      ],
      "execution_count": 1,
      "outputs": []
    },
    {
      "cell_type": "code",
      "metadata": {
        "id": "161ATAhDsbc9",
        "colab_type": "code",
        "colab": {
          "base_uri": "https://localhost:8080/",
          "height": 85
        },
        "outputId": "a3e03080-d574-4084-be84-51b98c81c6b3"
      },
      "source": [
        "# create CSV (comma-separated values) dataset\n",
        "csv_data = '''A, B, C, D\n",
        "1.0, 2.0, 3.0, 4.0\n",
        "5.0, 6.0,, 8.0\n",
        "10.0, 11.0, 12.0,\n",
        ",,,'''\n",
        "\n",
        "# convert to data frame\n",
        "df = pd.read_csv(StringIO(csv_data))\n",
        "\n",
        "# we can see which values are missing in the data frame. for larger dataset,\n",
        "# we can use an isnull method.\n",
        "df.isnull().sum()\n",
        "\n",
        "# to see the values of the df data frame, use .values function\n",
        "print(\"df.values:\",df.values)\n"
      ],
      "execution_count": 5,
      "outputs": [
        {
          "output_type": "stream",
          "text": [
            "df.values: [[ 1.  2.  3.  4.]\n",
            " [ 5.  6. nan  8.]\n",
            " [10. 11. 12. nan]\n",
            " [nan nan nan nan]]\n"
          ],
          "name": "stdout"
        }
      ]
    },
    {
      "cell_type": "markdown",
      "metadata": {
        "id": "WpYCAsr1FBTh",
        "colab_type": "text"
      },
      "source": [
        "\"\"\"\n",
        "Eliminating samples or features with missing values.\n",
        "\"\"\""
      ]
    },
    {
      "cell_type": "code",
      "metadata": {
        "id": "vDc2S46uE8bY",
        "colab_type": "code",
        "colab": {
          "base_uri": "https://localhost:8080/",
          "height": 102
        },
        "outputId": "922abaac-daa8-4d41-fe90-a8ee11987870"
      },
      "source": [
        "# eliminating rows with missing data\n",
        "print(df.dropna())\n",
        "\n",
        "# eliminating columns with missing data\n",
        "print(df.dropna(axis=1))"
      ],
      "execution_count": 6,
      "outputs": [
        {
          "output_type": "stream",
          "text": [
            "     A    B    C    D\n",
            "0  1.0  2.0  3.0  4.0\n",
            "Empty DataFrame\n",
            "Columns: []\n",
            "Index: [0, 1, 2, 3]\n"
          ],
          "name": "stdout"
        }
      ]
    },
    {
      "cell_type": "code",
      "metadata": {
        "id": "bOxFuhl9Etvz",
        "colab_type": "code",
        "colab": {
          "base_uri": "https://localhost:8080/",
          "height": 244
        },
        "outputId": "9dc3c666-f26e-4505-d243-e116673e7e36"
      },
      "source": [
        "# eliminating columns where all values as NaN\n",
        "print(df.dropna(how='all'))\n",
        "\n",
        "# eliminating rows that have atleast 4 non-NaN values\n",
        "print(df.dropna(thresh=4))\n",
        "\n",
        "# only drop rows where NaN appears in specific columns\n",
        "# for some reason, this command is not working. Any column name other than A\n",
        "# gives and error. WHY???\n",
        "df.dropna(subset=['A'])"
      ],
      "execution_count": 7,
      "outputs": [
        {
          "output_type": "stream",
          "text": [
            "      A     B     C    D\n",
            "0   1.0   2.0   3.0  4.0\n",
            "1   5.0   6.0   NaN  8.0\n",
            "2  10.0  11.0  12.0  NaN\n",
            "     A    B    C    D\n",
            "0  1.0  2.0  3.0  4.0\n"
          ],
          "name": "stdout"
        },
        {
          "output_type": "execute_result",
          "data": {
            "text/html": [
              "<div>\n",
              "<style scoped>\n",
              "    .dataframe tbody tr th:only-of-type {\n",
              "        vertical-align: middle;\n",
              "    }\n",
              "\n",
              "    .dataframe tbody tr th {\n",
              "        vertical-align: top;\n",
              "    }\n",
              "\n",
              "    .dataframe thead th {\n",
              "        text-align: right;\n",
              "    }\n",
              "</style>\n",
              "<table border=\"1\" class=\"dataframe\">\n",
              "  <thead>\n",
              "    <tr style=\"text-align: right;\">\n",
              "      <th></th>\n",
              "      <th>A</th>\n",
              "      <th>B</th>\n",
              "      <th>C</th>\n",
              "      <th>D</th>\n",
              "    </tr>\n",
              "  </thead>\n",
              "  <tbody>\n",
              "    <tr>\n",
              "      <th>0</th>\n",
              "      <td>1.0</td>\n",
              "      <td>2.0</td>\n",
              "      <td>3.0</td>\n",
              "      <td>4.0</td>\n",
              "    </tr>\n",
              "    <tr>\n",
              "      <th>1</th>\n",
              "      <td>5.0</td>\n",
              "      <td>6.0</td>\n",
              "      <td>NaN</td>\n",
              "      <td>8.0</td>\n",
              "    </tr>\n",
              "    <tr>\n",
              "      <th>2</th>\n",
              "      <td>10.0</td>\n",
              "      <td>11.0</td>\n",
              "      <td>12.0</td>\n",
              "      <td>NaN</td>\n",
              "    </tr>\n",
              "  </tbody>\n",
              "</table>\n",
              "</div>"
            ],
            "text/plain": [
              "      A     B     C    D\n",
              "0   1.0   2.0   3.0  4.0\n",
              "1   5.0   6.0   NaN  8.0\n",
              "2  10.0  11.0  12.0  NaN"
            ]
          },
          "metadata": {
            "tags": []
          },
          "execution_count": 7
        }
      ]
    },
    {
      "cell_type": "code",
      "metadata": {
        "id": "tIyOd4-TEnXP",
        "colab_type": "code",
        "colab": {}
      },
      "source": [
        "\"\"\"\n",
        "Imputing missing values. strategy can be mean, median and most_frequent.\n",
        "\"\"\"\n",
        "from sklearn.impute import SimpleImputer\n",
        "imr = SimpleImputer(missing_values=np.nan, strategy='most_frequent')\n",
        "imr = imr.fit(df)\n",
        "imputed_data = imr.transform(df.values)\n",
        "print(imputed_data)"
      ],
      "execution_count": null,
      "outputs": []
    },
    {
      "cell_type": "code",
      "metadata": {
        "id": "tcIhwKussm-c",
        "colab_type": "code",
        "colab": {
          "base_uri": "https://localhost:8080/",
          "height": 323
        },
        "outputId": "505d3877-33b5-478d-8928-27bdc0470263"
      },
      "source": [
        "\"\"\"\n",
        "Handling categorical data. It can be nominal features which don't imply any\n",
        "order in the context or ordinal features that can be ordered and sorted.\n",
        "\"\"\"\n",
        "df = pd.DataFrame([\n",
        "            ['green', 'M', 10.1, 'class1'],\n",
        "            ['red', 'L', 13.5, 'class2'],\n",
        "            ['blue', 'XL', 15.3, 'class1']])\n",
        "df.columns = ['color', 'size', 'price', 'classlabel']   \n",
        "print(df)         \n",
        "\n",
        "# Let us map the ordinal features via the relationship, XL = L + 1 = M + 2\n",
        "size_mapping = {\n",
        "                'XL': 3,\n",
        "                'L': 2,\n",
        "                'M': 1}\n",
        "df['size'] = df['size'].map(size_mapping)\n",
        "print(df)\n",
        "\n",
        "# in order to transform the integer values back to the original mapping\n",
        "inv_size_mapping = {v: k for k, v in size_mapping.items()}\n",
        "df['size'] = df['size'].map(inv_size_mapping)\n",
        "print(df)\n",
        "\n",
        "\"\"\"\n",
        "Encoding class label: Though many of the estimators convert class labels to \n",
        "integers internally, like with the iris dataset, \n",
        "\"\"\"\n",
        "class_mapping = {label:idx for idx, label in \n",
        "                 enumerate(np.unique(df['classlabel']))}\n",
        "print(class_mapping)                 \n",
        "\n",
        "# Encoding class labels via map()\n",
        "#df['classlabel'] = df['classlabel'].map(class_mapping)\n",
        "#df['size'] = df['size'].map(size_mapping)\n",
        "#print(df)\n",
        "\n",
        "#inv_class_mapping = {v:k for k, v in class_mapping.items()}\n",
        "#df['classlabel'] = df['classlabel'].map(inv_class_mapping)\n",
        "#print(df)\n",
        "\n",
        "# LabelEncoder from the preprocessing module can do the equivalent job\n",
        "from sklearn.preprocessing import LabelEncoder\n",
        "class_le = LabelEncoder()\n",
        "y = class_le.fit_transform(df['classlabel'].values)\n",
        "print(y)\n",
        "\n",
        "# We can transform the integer class labels back\n",
        "print(class_le.inverse_transform(y))\n",
        "\n",
        "\"\"\"\n",
        "Performing one-hot encoding on nominal features. Ordinal size features can be\n",
        "converted into integers. For nominal values, however, attaching integer values\n",
        "can lead to bad performance of the algorithm, since it thinks that integers are\n",
        "ordered. The workaround is to use a technique called one-hot encoding.\n",
        "\"\"\"\n",
        "X = df[['color', 'size', 'price']].values\n",
        "color_le = LabelEncoder()\n",
        "X[:, 0] = color_le.fit_transform(X[:, 0])\n",
        "print(X)\n",
        " \n"
      ],
      "execution_count": 9,
      "outputs": [
        {
          "output_type": "stream",
          "text": [
            "   color size  price classlabel\n",
            "0  green    M   10.1     class1\n",
            "1    red    L   13.5     class2\n",
            "2   blue   XL   15.3     class1\n",
            "   color  size  price classlabel\n",
            "0  green     1   10.1     class1\n",
            "1    red     2   13.5     class2\n",
            "2   blue     3   15.3     class1\n",
            "   color size  price classlabel\n",
            "0  green    M   10.1     class1\n",
            "1    red    L   13.5     class2\n",
            "2   blue   XL   15.3     class1\n",
            "{'class1': 0, 'class2': 1}\n",
            "[0 1 0]\n",
            "['class1' 'class2' 'class1']\n",
            "[[1 'M' 10.1]\n",
            " [2 'L' 13.5]\n",
            " [0 'XL' 15.3]]\n"
          ],
          "name": "stdout"
        }
      ]
    },
    {
      "cell_type": "code",
      "metadata": {
        "id": "OA960koktqMS",
        "colab_type": "code",
        "colab": {
          "base_uri": "https://localhost:8080/",
          "height": 68
        },
        "outputId": "5968efd0-c7e0-455d-af90-787fb9ec7380"
      },
      "source": [
        "from sklearn.preprocessing import LabelBinarizer\n",
        "cat_features = ['color', 'director_name', 'actor_2_name']\n",
        "encoder = LabelBinarizer()\n",
        "new_cat_features = encoder.fit_transform(cat_features)\n",
        "new_cat_features"
      ],
      "execution_count": null,
      "outputs": [
        {
          "output_type": "execute_result",
          "data": {
            "text/plain": [
              "array([[0, 1, 0],\n",
              "       [0, 0, 1],\n",
              "       [1, 0, 0]])"
            ]
          },
          "metadata": {
            "tags": []
          },
          "execution_count": 12
        }
      ]
    },
    {
      "cell_type": "code",
      "metadata": {
        "id": "fPfVPLG3vxQw",
        "colab_type": "code",
        "colab": {
          "base_uri": "https://localhost:8080/",
          "height": 85
        },
        "outputId": "14f4aad4-77bd-4d91-c14f-30ae0f3ba029"
      },
      "source": [
        "from sklearn.preprocessing import LabelBinarizer\n",
        "cat_features = ['color', 'director_name', 'actor_2_name', 'color']\n",
        "encoder = LabelBinarizer(sparse_output=True)\n",
        "new_cat_features = encoder.fit_transform(cat_features)\n",
        "print(new_cat_features)"
      ],
      "execution_count": null,
      "outputs": [
        {
          "output_type": "stream",
          "text": [
            "  (0, 1)\t1\n",
            "  (1, 2)\t1\n",
            "  (2, 0)\t1\n",
            "  (3, 1)\t1\n"
          ],
          "name": "stdout"
        }
      ]
    },
    {
      "cell_type": "markdown",
      "metadata": {
        "id": "-H5EgfOWw_Y5",
        "colab_type": "text"
      },
      "source": [
        "Note that for multi array like [a,b],[c,d] only onehotencoding can be done"
      ]
    },
    {
      "cell_type": "code",
      "metadata": {
        "id": "LYWKiotBwk4S",
        "colab_type": "code",
        "colab": {
          "base_uri": "https://localhost:8080/",
          "height": 391
        },
        "outputId": "98fcd429-cbda-48aa-ef80-f1c74fcc11e9"
      },
      "source": [
        "from numpy import array\n",
        "from sklearn.preprocessing import LabelEncoder\n",
        "from sklearn.preprocessing import OneHotEncoder\n",
        "from sklearn.preprocessing import LabelBinarizer\n",
        "\n",
        "# define example\n",
        "data = ['cold', 'cold', 'warm', 'cold', 'hot', 'hot', 'warm', 'cold', \n",
        "'warm', 'hot']\n",
        "values = array(data)\n",
        "print (\"Data: \", values)\n",
        "# integer encode\n",
        "label_encoder = LabelEncoder()\n",
        "integer_encoded = label_encoder.fit_transform(values)\n",
        "print (\"Label Encoder:\" ,integer_encoded)\n",
        "\n",
        "# onehot encode\n",
        "onehot_encoder = OneHotEncoder(sparse=False)\n",
        "integer_encoded = integer_encoded.reshape(len(integer_encoded), 1)\n",
        "onehot_encoded = onehot_encoder.fit_transform(integer_encoded)\n",
        "print (\"OneHot Encoder:\", onehot_encoded)\n",
        "\n",
        "#Binary encode\n",
        "lb = LabelBinarizer()\n",
        "print (\"Label Binarizer:\", lb.fit_transform(values))"
      ],
      "execution_count": null,
      "outputs": [
        {
          "output_type": "stream",
          "text": [
            "Data:  ['cold' 'cold' 'warm' 'cold' 'hot' 'hot' 'warm' 'cold' 'warm' 'hot']\n",
            "Label Encoder: [0 0 2 0 1 1 2 0 2 1]\n",
            "OneHot Encoder: [[1. 0. 0.]\n",
            " [1. 0. 0.]\n",
            " [0. 0. 1.]\n",
            " [1. 0. 0.]\n",
            " [0. 1. 0.]\n",
            " [0. 1. 0.]\n",
            " [0. 0. 1.]\n",
            " [1. 0. 0.]\n",
            " [0. 0. 1.]\n",
            " [0. 1. 0.]]\n",
            "Label Binarizer: [[1 0 0]\n",
            " [1 0 0]\n",
            " [0 0 1]\n",
            " [1 0 0]\n",
            " [0 1 0]\n",
            " [0 1 0]\n",
            " [0 0 1]\n",
            " [1 0 0]\n",
            " [0 0 1]\n",
            " [0 1 0]]\n"
          ],
          "name": "stdout"
        }
      ]
    },
    {
      "cell_type": "code",
      "metadata": {
        "id": "A3dzKV9aurqz",
        "colab_type": "code",
        "colab": {
          "base_uri": "https://localhost:8080/",
          "height": 85
        },
        "outputId": "5d6b4b91-4c95-4321-850b-555cb34fc57a"
      },
      "source": [
        "from sklearn.compose import ColumnTransformer\n",
        "from sklearn.preprocessing import LabelEncoder, OneHotEncoder\n",
        "import numpy as np\n",
        "\n",
        "X = np.array([['apple', 'red', 1, 'round', 0],\n",
        "              ['orange', 'orange', 2, 'round', 0.1],\n",
        "              ['bannana', 'yellow', 2, 'long', 0],\n",
        "              ['apple', 'green', 1, 'round', 0.2]])\n",
        "ct = ColumnTransformer(\n",
        "    [('oh_enc', OneHotEncoder(sparse=False), [0, 1, 3]),],  # the column numbers I want to apply this to\n",
        "    remainder='passthrough'  # This leaves the rest of my columns in place\n",
        ")\n",
        "print(ct.fit_transform(X)) # Notice the output is a string"
      ],
      "execution_count": null,
      "outputs": [
        {
          "output_type": "stream",
          "text": [
            "[['1.0' '0.0' '0.0' '0.0' '0.0' '1.0' '0.0' '0.0' '1.0' '1' '0']\n",
            " ['0.0' '0.0' '1.0' '0.0' '1.0' '0.0' '0.0' '0.0' '1.0' '2' '0.1']\n",
            " ['0.0' '1.0' '0.0' '0.0' '0.0' '0.0' '1.0' '1.0' '0.0' '2' '0']\n",
            " ['1.0' '0.0' '0.0' '1.0' '0.0' '0.0' '0.0' '0.0' '1.0' '1' '0.2']]\n"
          ],
          "name": "stdout"
        }
      ]
    },
    {
      "cell_type": "code",
      "metadata": {
        "id": "3Pk7la-Bul3X",
        "colab_type": "code",
        "colab": {
          "base_uri": "https://localhost:8080/",
          "height": 85
        },
        "outputId": "c1907bf3-84bf-420c-a2a7-384b4fbc829e"
      },
      "source": [
        "from sklearn.compose import ColumnTransformer\n",
        "from sklearn.preprocessing import LabelEncoder, OneHotEncoder\n",
        "import numpy as np\n",
        "\n",
        "X = np.array([['apple', 'red', 1, 'round', 0],\n",
        "              ['orange', 'orange', 2, 'round', 0.1],\n",
        "              ['bannana', 'yellow', 2, 'long', 0],\n",
        "              ['apple', 'green', 1, 'round', 0.2]])\n",
        "ct = ColumnTransformer(\n",
        "    [('oh_enc', OneHotEncoder(sparse=False), [0]),],  # the column numbers I want to apply this to\n",
        "    remainder='passthrough'  # This leaves the rest of my columns in place\n",
        ")\n",
        "print(ct.fit_transform(X)) # Notice the output is a string"
      ],
      "execution_count": null,
      "outputs": [
        {
          "output_type": "stream",
          "text": [
            "[['1.0' '0.0' '0.0' 'red' '1' 'round' '0']\n",
            " ['0.0' '0.0' '1.0' 'orange' '2' 'round' '0.1']\n",
            " ['0.0' '1.0' '0.0' 'yellow' '2' 'long' '0']\n",
            " ['1.0' '0.0' '0.0' 'green' '1' 'round' '0.2']]\n"
          ],
          "name": "stdout"
        }
      ]
    },
    {
      "cell_type": "markdown",
      "metadata": {
        "id": "98yKJyXYxQGO",
        "colab_type": "text"
      },
      "source": [
        "# **Wine Dataset**"
      ]
    },
    {
      "cell_type": "code",
      "metadata": {
        "id": "yWcvoUuvvANS",
        "colab_type": "code",
        "colab": {}
      },
      "source": [
        "\"\"\"\n",
        "Splitting datasets into test and train groups. Having dealt with the Iris data-\n",
        "set, we now turn our attention to the wine data set. We will preprocess the \n",
        "dataset followed by splitting it into test and train subsets. \n",
        "\"\"\"\n",
        "# download data from repository\n",
        "df_wine = pd.read_csv('https://archive.ics.uci.edu/ml/machine-learning-\\\n",
        "databases/wine/wine.data', header=None)\n",
        "\n",
        "# name columns\n",
        "df_wine.columns = ['Class label', 'Alcohol',\n",
        "                   'Malic acid', 'Ash',\n",
        "                   'Alkanalinity of ash', 'Magnesium',\n",
        "                   'Total phenols', 'Flavonoids',\n",
        "                   'Nonflavonoid phenols',\n",
        "                   'Proanthocyanins',\n",
        "                   'Color intensity', 'Hue',\n",
        "                   'OD280/OD315 of diluted wines',\n",
        "                   'Proline']"
      ],
      "execution_count": null,
      "outputs": []
    },
    {
      "cell_type": "markdown",
      "metadata": {
        "id": "x0nlCgZ7xf2P",
        "colab_type": "text"
      },
      "source": [
        "To find how many unique attributes are there given a column"
      ]
    },
    {
      "cell_type": "code",
      "metadata": {
        "id": "V_UAYLPvxZ4N",
        "colab_type": "code",
        "colab": {
          "base_uri": "https://localhost:8080/",
          "height": 34
        },
        "outputId": "1b49472f-b142-41f2-c73c-d6d38ec1f4b0"
      },
      "source": [
        "# look at all possible class labels - 3 possibilities                   \n",
        "print('Class labels', np.unique(df_wine['Class label']))\n"
      ],
      "execution_count": null,
      "outputs": [
        {
          "output_type": "stream",
          "text": [
            "Class labels [1 2 3]\n"
          ],
          "name": "stdout"
        }
      ]
    },
    {
      "cell_type": "code",
      "metadata": {
        "id": "IkkBD6r1xOcR",
        "colab_type": "code",
        "colab": {
          "base_uri": "https://localhost:8080/",
          "height": 272
        },
        "outputId": "12bd3911-1161-4382-8a73-9aaef41ba3f3"
      },
      "source": [
        "# check for na values - no missing values\n",
        "print(df_wine.isnull().sum())\n",
        "\n",
        "# Split wine data into test and train sets\n",
        "from sklearn.model_selection import train_test_split\n",
        "X, y = df_wine.iloc[:, 1:].values, df_wine.iloc[:, 0].values\n",
        "\n",
        "X_train, X_test, y_train, y_test = \\\n",
        "        train_test_split(X, y, test_size=0.3, random_state=0)"
      ],
      "execution_count": null,
      "outputs": [
        {
          "output_type": "stream",
          "text": [
            "Class label                     0\n",
            "Alcohol                         0\n",
            "Malic acid                      0\n",
            "Ash                             0\n",
            "Alkanalinity of ash             0\n",
            "Magnesium                       0\n",
            "Total phenols                   0\n",
            "Flavonoids                      0\n",
            "Nonflavonoid phenols            0\n",
            "Proanthocyanins                 0\n",
            "Color intensity                 0\n",
            "Hue                             0\n",
            "OD280/OD315 of diluted wines    0\n",
            "Proline                         0\n",
            "dtype: int64\n"
          ],
          "name": "stdout"
        }
      ]
    },
    {
      "cell_type": "code",
      "metadata": {
        "id": "KFM0szhuxp87",
        "colab_type": "code",
        "colab": {}
      },
      "source": [
        "# standardize dataset using the MinMaxScaler        \n",
        "from sklearn.preprocessing import MinMaxScaler\n",
        "mms = MinMaxScaler()\n",
        "X_train_norm = mms.fit_transform(X_train)\n",
        "X_test_norm = mms.transform(X_test)     \n",
        "\n",
        "# standardize dataset using the StandardScaler\n",
        "from sklearn.preprocessing import StandardScaler\n",
        "stdsc = StandardScaler() \n",
        "X_train_std = stdsc.fit_transform(X_train)\n",
        "X_test_std = stdsc.transform(X_test) "
      ],
      "execution_count": null,
      "outputs": []
    },
    {
      "cell_type": "markdown",
      "metadata": {
        "id": "zTAWXxaSyITt",
        "colab_type": "text"
      },
      "source": [
        "\"\"\"\n",
        "L1 vs L2 regularization: So far we have seen the usage of L2 regularization in\n",
        "the joint minimization of cost function and weight magnitude penalty. This works\n",
        "well to regularize the data and prevent overfitting by minimzing the weight\n",
        "magnitude. Another option is the L1 regularization, which leads to sparse \n",
        "weight vectors, i.e. most entries are 0. This can be extremely useful for \n",
        "feature selection. Next up, is some code for Raschka that shows these points.\n",
        "\"\"\""
      ]
    },
    {
      "cell_type": "code",
      "metadata": {
        "id": "4joc6bLcyHdf",
        "colab_type": "code",
        "colab": {
          "base_uri": "https://localhost:8080/",
          "height": 204
        },
        "outputId": "470864c2-62a4-48fc-e885-7290872bbb1a"
      },
      "source": [
        "from sklearn.linear_model import LogisticRegression\n",
        "\n",
        "# logistic regression using L1 regularization\n",
        "lr = LogisticRegression(penalty='l1', C=0.1, solver='liblinear')\n",
        "lr.fit(X_train_std, y_train)\n",
        "print('Training accuracy: ', lr.score(X_train_std, y_train))\n",
        "print('Test accuracy: ', lr.score(X_test_std, y_test))\n",
        "\n",
        "# Since the test and training scores are close, there is no indication of \n",
        "# overfitting. Find the weight coefficients. Remember One-versus-Rest is used.\n",
        "print(lr.coef_)\n"
      ],
      "execution_count": null,
      "outputs": [
        {
          "output_type": "stream",
          "text": [
            "Training accuracy:  0.9838709677419355\n",
            "Test accuracy:  0.9814814814814815\n",
            "[[ 0.28035734  0.          0.         -0.02800405  0.          0.\n",
            "   0.71015251  0.          0.          0.          0.          0.\n",
            "   1.23590463]\n",
            " [-0.64404283 -0.06875143 -0.05720255  0.          0.          0.\n",
            "   0.          0.          0.         -0.92676346  0.06017645  0.\n",
            "  -0.37107245]\n",
            " [ 0.          0.06143918  0.          0.          0.          0.\n",
            "  -0.63682252  0.          0.          0.49844395 -0.35812059 -0.57036195\n",
            "   0.        ]]\n"
          ],
          "name": "stdout"
        }
      ]
    },
    {
      "cell_type": "markdown",
      "metadata": {
        "id": "I-oDnNRVypEl",
        "colab_type": "text"
      },
      "source": [
        "Plotting the weight components for each feature as a function of regularizat-\n",
        "ion strength. When a weight vector is 0, it tells us that the feature is not\n",
        "important. There is a caveat, however. If two features are correlated, and \n",
        "yet important, one of the weights could end up being zero. So, need to watch\n",
        "out for that.\n"
      ]
    },
    {
      "cell_type": "code",
      "metadata": {
        "id": "ZjeEScyf0jW0",
        "colab_type": "code",
        "colab": {}
      },
      "source": [
        "# https://towardsdatascience.com/intuitions-on-l1-and-l2-regularisation-235f2db4c261"
      ],
      "execution_count": null,
      "outputs": []
    },
    {
      "cell_type": "code",
      "metadata": {
        "id": "EtQiBCLKyW2r",
        "colab_type": "code",
        "colab": {
          "base_uri": "https://localhost:8080/",
          "height": 333
        },
        "outputId": "ccbc234f-2360-4456-d39f-c84dd8c931a9"
      },
      "source": [
        "import matplotlib.pyplot as plt\n",
        "\n",
        "# create a figure object\n",
        "fig = plt.figure()\n",
        "\n",
        "# create an axis object in the figure: Fig 1 in a 1 by 1 grid\n",
        "ax = plt.subplot(111) \n",
        "\n",
        "# colors corresponding to each feature\n",
        "colors = ['blue', 'green', 'red', 'cyan', 'magenta', 'yellow', 'black',\n",
        "          'pink', 'lightgreen', 'lightblue', 'gray', 'indigo', 'orange']\n",
        "\n",
        "# initialize array to capture weight coefficients for varying C\n",
        "weights, params = [], []\n",
        "\n",
        "# consider C = 10**-4 to 10**5. c = -4..5\n",
        "for c in np.arange(-4, 6).astype(float):\n",
        "    lr = LogisticRegression(penalty='l1', \n",
        "                            C=10**c,\n",
        "                            solver= 'liblinear', \n",
        "                            random_state=0)\n",
        "    lr.fit(X_train_std, y_train)\n",
        "    \n",
        "    # interested in weights corresponding to wine 1 vs wines 2 and 3\n",
        "    weights.append(lr.coef_[2])                            \n",
        "    params.append(10**c)\n",
        "\n",
        "# turn weight and parameter arrays into numpy arrays\n",
        "weights = np.array(weights)\n",
        "params = np.array(params)    \n",
        "\n",
        "print(weights.shape[1])\n",
        "print(params)    \n",
        "for column, color in zip(range(weights.shape[1]), colors):\n",
        "    plt.plot(params, weights[:, column],\n",
        "             label=df_wine.columns[column+1],\n",
        "             color=color)\n",
        "             \n",
        "plt.ylabel('Weight coefficients')\n",
        "plt.xlabel('C')\n",
        "plt.title('Wine 3 vs rest')\n",
        "plt.legend(loc='upper left')             \n",
        "plt.axhline(0, color='black', linestyle='--', linewidth=3)\n",
        "ax.legend(loc='upper center',\n",
        "          bbox_to_anchor=(1.38, 1.03),\n",
        "          ncol=1, fancybox=True)\n",
        "plt.xscale('log')\n",
        "plt.xlim(10**(-5), 10**5)\n",
        "#plt.savefig('L1RegularizationWine3.png', bbox_inches='tight')\n",
        "#plt.close()             \n",
        "plt.show()"
      ],
      "execution_count": null,
      "outputs": [
        {
          "output_type": "stream",
          "text": [
            "13\n",
            "[1.e-04 1.e-03 1.e-02 1.e-01 1.e+00 1.e+01 1.e+02 1.e+03 1.e+04 1.e+05]\n"
          ],
          "name": "stdout"
        },
        {
          "output_type": "display_data",
          "data": {
            "image/png": "[encoded data removed]",
            "text/plain": [
              "<Figure size 432x288 with 1 Axes>"
            ]
          },
          "metadata": {
            "tags": [],
            "needs_background": "light"
          }
        }
      ]
    },
    {
      "cell_type": "code",
      "metadata": {
        "id": "Lvi8Eln81k8x",
        "colab_type": "code",
        "colab": {}
      },
      "source": [
        "import numpy as np\n",
        "from sklearn.base import clone\n",
        "from itertools import combinations\n",
        "from sklearn.model_selection import train_test_split\n",
        "from sklearn.metrics import accuracy_score\n",
        "\n",
        "class SBS():\n",
        "    \n",
        "    # initializes class - estimator is the ML algorithm of choice, \n",
        "    # accuracy_score is the metric to score accuracy by simply comparing the\n",
        "    # predicted class to the actual class.\n",
        "    def __init__(self, estimator, k_features, scoring=accuracy_score, \n",
        "                 test_size=0.25, random_state=1):\n",
        "        \n",
        "        # accuracy scoring function\n",
        "        self.scoring = scoring     \n",
        "        \n",
        "        # clones the estimator for the same parameters without the data\n",
        "        self.estimator = clone(estimator) \n",
        "        \n",
        "        # number of desired features to reduce the dimensionality to.\n",
        "        self.k_features = k_features\n",
        "        \n",
        "        # spit ratio of test set\n",
        "        self.test_size = test_size\n",
        "        \n",
        "        # seed for random number generator\n",
        "        self.random_state = random_state            \n",
        "        \n",
        "        \n",
        "    # function to fit the data according to the reduced feature numbers    \n",
        "    def fit(self, X, y):\n",
        "        \n",
        "        # split the data sets into test and train subsets - we need to split\n",
        "        # the training data rather than our actual test set so that we don't\n",
        "        # end up using the test data for training.\n",
        "        X_train, X_test, y_train, y_test = \\\n",
        "                train_test_split(X, y, test_size=self.test_size, \n",
        "                                 random_state=self.random_state)\n",
        "\n",
        "        # dimension of training data set - # of features        \n",
        "        dim = X_train.shape[1]\n",
        "        \n",
        "        # range of dim gives the range from 0 to (dim - 1), while tuple\n",
        "        # generates integers in the range.\n",
        "        self.indices_ = tuple(range(dim))\n",
        "        \n",
        "        # putting the indices in square brackets turns it into a vector.\n",
        "        self.subsets_ = [self.indices_]\n",
        "        \n",
        "        # as defined before, this computes the accuracy of the algorithm for\n",
        "        # the full feature set.\n",
        "        score = self._calc_score(X_train, y_train, X_test, y_test, \n",
        "                                 self.indices_)                 \n",
        "        \n",
        "        # initialize scores_ vector with the initial score.        \n",
        "        self.scores_ = [score]\n",
        "\n",
        "        # begin while loop that terminates once the dimension of the feature \n",
        "        # space is what we want - k_features.\n",
        "        while dim > self.k_features:\n",
        "            \n",
        "            # intialize scores vectors and indices subsets that is updates as \n",
        "            # the feature numbers is reduced.\n",
        "            scores = []\n",
        "            subsets = []\n",
        "            \n",
        "            # the all (dim - 1) subsets of the feature space of dimension dim\n",
        "            # are created through combinations from itertools module.\n",
        "            for p in combinations(self.indices_, r=dim-1):\n",
        "                \n",
        "                # compute the prediction accuracy for each index combination.\n",
        "                score = self._calc_score(X_train, y_train,\n",
        "                                  X_test, y_test, p)\n",
        "                                  \n",
        "                # store the score                                  \n",
        "                scores.append(score)\n",
        "                \n",
        "                # store the index subset\n",
        "                subsets.append(p)\n",
        "\n",
        "            # find which position contains the highest score. Note we're not\n",
        "            # interested in the actual score.\n",
        "            best = np.argmax(scores)        \n",
        "\n",
        "            # store the corresponding index as the indices_ variable.                          \n",
        "            self.indices_ = subsets[best]\n",
        "            \n",
        "            # meanwhile, keep track of how the indices evolve with each \n",
        "            # decrement of the feature space.\n",
        "            self.subsets_.append(self.indices_)\n",
        "\n",
        "            # the dimension has been reduced by 1 via the steps above.                                 \n",
        "            dim -= 1\n",
        "            \n",
        "            # keep track of the scores by adding the score for the best \n",
        "            # reduction of the feature space.\n",
        "            self.scores_.append(scores[best])\n",
        "            \n",
        "        # when the while loop is completed, take the last score and store it\n",
        "        # in the variable k_score_.\n",
        "        self.k_score_ = self.scores_[-1]\n",
        "        \n",
        "        return self\n",
        "        \n",
        "    # this function will transform the data set by keeping only the columns\n",
        "    # with the specified indices. This isn't used anywhere, here but is useful.\n",
        "    def transform(self, X):\n",
        "        return X[:, self.indices_]\n",
        "\n",
        "    # function to find the score of the dataset for specified feature indices.\n",
        "    # This is used at each step when the feature space has been reduced.\n",
        "    def _calc_score(self, X_train, y_train, X_test, y_test, indices):\n",
        "        \n",
        "        # fit the data using the learning algorithm of choice.\n",
        "        self.estimator.fit(X_train[:, indices], y_train) \n",
        "        \n",
        "        # predict the classes.\n",
        "        y_pred = self.estimator.predict(X_test[:, indices])\n",
        "        \n",
        "        # evaluate score\n",
        "        score = self.scoring(y_test, y_pred)        \n",
        "        return score"
      ],
      "execution_count": null,
      "outputs": []
    },
    {
      "cell_type": "code",
      "metadata": {
        "id": "HrhaUxwzy0fY",
        "colab_type": "code",
        "colab": {
          "base_uri": "https://localhost:8080/",
          "height": 381
        },
        "outputId": "32b39c83-4c09-436d-ff40-2fea5c7c644b"
      },
      "source": [
        "# Test the sequential backwards algorithm - Raschka uses the knn algorithm.\n",
        "#from SBS import SBS\n",
        "\n",
        "# import KNeighborsClassifier from the sklearn.neighbors module\n",
        "from sklearn.neighbors import KNeighborsClassifier\n",
        "\n",
        "# knn estimator\n",
        "knn = KNeighborsClassifier(n_neighbors=2)\n",
        "sbs = SBS(knn, k_features=1)\n",
        "sbs.fit(X_train_std, y_train)\n",
        "\n",
        "# Plot the scores as a function of feature dimension\n",
        "# Look at the evolution of subsets\n",
        "print('Indices: ', sbs.subsets_)\n",
        "print('Scores: ', sbs.scores_)\n",
        "\n",
        "zp = zip(sbs.subsets_,sbs.scores_)\n",
        "print(sorted(zp, key=lambda x: x[0]))\n",
        "\n",
        "k_feat = [len(k) for k in sbs.subsets_]\n",
        "plt.plot(k_feat, sbs.scores_)\n",
        "plt.xlabel('Number of features')\n",
        "plt.ylabel('Accuracy')\n",
        "plt.ylim(0.8, 1.1)\n",
        "\n",
        "# when dealing with integers on the x axis, grids really create a visual impact\n",
        "plt.grid()\n",
        "plt.title('Sequential Backwards Selection - Using knn on \\n wine dataset')\n",
        "plt.show()"
      ],
      "execution_count": null,
      "outputs": [
        {
          "output_type": "stream",
          "text": [
            "Indices:  [(0, 1, 2, 3, 4, 5, 6, 7, 8, 9, 10, 11, 12), (0, 1, 2, 3, 5, 6, 7, 8, 9, 10, 11, 12), (0, 1, 2, 3, 6, 7, 8, 9, 10, 11, 12), (0, 1, 2, 3, 6, 7, 8, 9, 10, 12), (0, 1, 2, 3, 6, 7, 8, 10, 12), (0, 1, 2, 3, 6, 8, 10, 12), (0, 1, 3, 6, 8, 10, 12), (0, 1, 3, 6, 10, 12), (0, 1, 3, 10, 12), (0, 1, 10, 12), (0, 1, 10), (0, 10), (0,)]\n",
            "Scores:  [0.9354838709677419, 0.967741935483871, 1.0, 1.0, 1.0, 1.0, 1.0, 1.0, 1.0, 0.9354838709677419, 0.967741935483871, 0.8709677419354839, 0.8387096774193549]\n",
            "[((0,), 0.8387096774193549), ((0, 1, 2, 3, 4, 5, 6, 7, 8, 9, 10, 11, 12), 0.9354838709677419), ((0, 1, 2, 3, 5, 6, 7, 8, 9, 10, 11, 12), 0.967741935483871), ((0, 1, 2, 3, 6, 7, 8, 9, 10, 11, 12), 1.0), ((0, 1, 2, 3, 6, 7, 8, 9, 10, 12), 1.0), ((0, 1, 2, 3, 6, 7, 8, 10, 12), 1.0), ((0, 1, 2, 3, 6, 8, 10, 12), 1.0), ((0, 1, 3, 6, 8, 10, 12), 1.0), ((0, 1, 3, 6, 10, 12), 1.0), ((0, 1, 3, 10, 12), 1.0), ((0, 1, 10), 0.967741935483871), ((0, 1, 10, 12), 0.9354838709677419), ((0, 10), 0.8709677419354839)]\n"
          ],
          "name": "stdout"
        },
        {
          "output_type": "display_data",
          "data": {
            "image/png": "[encoded data removed]",
            "text/plain": [
              "<Figure size 432x288 with 1 Axes>"
            ]
          },
          "metadata": {
            "tags": [],
            "needs_background": "light"
          }
        }
      ]
    },
    {
      "cell_type": "markdown",
      "metadata": {
        "id": "9GPZh0ZL3Ocq",
        "colab_type": "text"
      },
      "source": [
        "https://www.bogotobogo.com/python/scikit-learn/scikit_machine_learning_Data_Preprocessing-III-Dimensionality-reduction-via-Sequential-feature-selection-Assessing-feature-importance-via-random-forests.php"
      ]
    },
    {
      "cell_type": "markdown",
      "metadata": {
        "id": "difegVh0669a",
        "colab_type": "text"
      },
      "source": [
        "we have chooosen '8' here, refer the zp printed in last line, there you can see for a high accuracy of 1, the lowest number of features is at '8'"
      ]
    },
    {
      "cell_type": "code",
      "metadata": {
        "id": "aB7zmX1G06b5",
        "colab_type": "code",
        "colab": {
          "base_uri": "https://localhost:8080/",
          "height": 34
        },
        "outputId": "68106953-50f3-4a2c-d4c8-e17e72391930"
      },
      "source": [
        "# We can see that there are 5 features, the smallest amount for which the \n",
        "# accuracy is 100%. What are these features?\n",
        "k5 = list(sbs.subsets_[8])\n",
        "print(df_wine.columns[1:][k5])\n"
      ],
      "execution_count": null,
      "outputs": [
        {
          "output_type": "stream",
          "text": [
            "Index(['Alcohol', 'Malic acid', 'Alkanalinity of ash', 'Hue', 'Proline'], dtype='object')\n"
          ],
          "name": "stdout"
        }
      ]
    },
    {
      "cell_type": "code",
      "metadata": {
        "id": "AcaS_FIY2z0h",
        "colab_type": "code",
        "colab": {
          "base_uri": "https://localhost:8080/",
          "height": 85
        },
        "outputId": "26bd3b31-f7d5-40a4-bd57-aea9044205e9"
      },
      "source": [
        "# Let us next check how the KNN classifier performs before and after dimension\n",
        "# reduction. \n",
        "knn.fit(X_train_std, y_train)\n",
        "print('Training accuracy: ', knn.score(X_train_std, y_train))\n",
        "print('Test set accuracy: ', knn.score(X_test_std, y_test))\n",
        "\n",
        "# After dimensional reduction\n",
        "knn.fit(X_train_std[:, k5], y_train)\n",
        "print('Training accuracy: ', knn.score(X_train_std[:, k5], y_train))\n",
        "print('Test set accuracy: ', knn.score(X_test_std[:, k5], y_test))"
      ],
      "execution_count": null,
      "outputs": [
        {
          "output_type": "stream",
          "text": [
            "Training accuracy:  0.9838709677419355\n",
            "Test set accuracy:  0.9444444444444444\n",
            "Training accuracy:  0.9596774193548387\n",
            "Test set accuracy:  0.9629629629629629\n"
          ],
          "name": "stdout"
        }
      ]
    },
    {
      "cell_type": "markdown",
      "metadata": {
        "id": "eVWYCHN_7hgP",
        "colab_type": "text"
      },
      "source": [
        "# Thus we performed feature extraction with KNN and SBS"
      ]
    },
    {
      "cell_type": "code",
      "metadata": {
        "id": "HR6sB43P7fMN",
        "colab_type": "code",
        "colab": {
          "base_uri": "https://localhost:8080/",
          "height": 102
        },
        "outputId": "e16fd1e1-240b-40e5-c609-9eda0e08994f"
      },
      "source": [
        "# Assessing feature importance via random forests. There is built in function\n",
        "# for the RandomForestClassifier of the sklearn.ensemble module.\n",
        "from sklearn.ensemble import RandomForestClassifier\n",
        "feat_labels = df_wine.columns[1:]\n",
        "print(feat_labels)\n",
        "forest = RandomForestClassifier(n_estimators=1000,\n",
        "                                random_state=0,\n",
        "                                n_jobs=-1)\n",
        "forest.fit(X_train, y_train)\n",
        "importances = forest.feature_importances_\n",
        "indices = np.argsort(importances)[::-1]"
      ],
      "execution_count": null,
      "outputs": [
        {
          "output_type": "stream",
          "text": [
            "Index(['Alcohol', 'Malic acid', 'Ash', 'Alkanalinity of ash', 'Magnesium',\n",
            "       'Total phenols', 'Flavonoids', 'Nonflavonoid phenols',\n",
            "       'Proanthocyanins', 'Color intensity', 'Hue',\n",
            "       'OD280/OD315 of diluted wines', 'Proline'],\n",
            "      dtype='object')\n"
          ],
          "name": "stdout"
        }
      ]
    },
    {
      "cell_type": "code",
      "metadata": {
        "id": "dQEnO4kX7vGQ",
        "colab_type": "code",
        "colab": {
          "base_uri": "https://localhost:8080/",
          "height": 518
        },
        "outputId": "dbe5c246-e93c-42ed-ca2c-bfd86f600c1d"
      },
      "source": [
        "# note the [::-1] command - in this case it simply flips the order. But it can\n",
        "# do other things as well. Find out what.\n",
        "for f in range(X_train.shape[1]):\n",
        "    print(\"%2d) %-*s %f\" % (f + 1, 30,\n",
        "                            feat_labels[indices[f]],\n",
        "                            importances[indices[f]]))\n",
        "                            \n",
        "# plot of relative importance of features\n",
        "plt.title('Feature Importance')\n",
        "plt.bar(range(X_train.shape[1]),\n",
        "              importances[indices],\n",
        "              color='lightblue',\n",
        "              align='center') \n",
        "plt.xticks(range(X_train.shape[1]),\n",
        "                 feat_labels[indices], rotation=90)       \n",
        "plt.xlim([-1, X_train.shape[1]])\n",
        "plt.tight_layout()                 \n",
        "plt.show()                           "
      ],
      "execution_count": null,
      "outputs": [
        {
          "output_type": "stream",
          "text": [
            " 1) Color intensity                0.190583\n",
            " 2) Proline                        0.159246\n",
            " 3) Flavonoids                     0.149066\n",
            " 4) OD280/OD315 of diluted wines   0.137214\n",
            " 5) Alcohol                        0.103509\n",
            " 6) Hue                            0.071931\n",
            " 7) Total phenols                  0.059530\n",
            " 8) Alkanalinity of ash            0.032480\n",
            " 9) Malic acid                     0.023645\n",
            "10) Magnesium                      0.022201\n",
            "11) Proanthocyanins                0.021967\n",
            "12) Nonflavonoid phenols           0.015877\n",
            "13) Ash                            0.012752\n"
          ],
          "name": "stdout"
        },
        {
          "output_type": "display_data",
          "data": {
            "image/png": "[encoded data removed]",
            "text/plain": [
              "<Figure size 432x288 with 1 Axes>"
            ]
          },
          "metadata": {
            "tags": [],
            "needs_background": "light"
          }
        }
      ]
    },
    {
      "cell_type": "code",
      "metadata": {
        "id": "94SldXUA72-f",
        "colab_type": "code",
        "colab": {}
      },
      "source": [
        ""
      ],
      "execution_count": null,
      "outputs": []
    }
  ]
}